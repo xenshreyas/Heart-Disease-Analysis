{
 "cells": [
  {
   "cell_type": "markdown",
   "id": "032d9762-e560-4940-9898-8ac61c96c0a9",
   "metadata": {},
   "source": [
    "**Preprocessing the Data**"
   ]
  },
  {
   "cell_type": "code",
   "execution_count": 18,
   "id": "c4f20b8a-e88c-4ef9-a1dc-e614e0cfa01b",
   "metadata": {},
   "outputs": [],
   "source": [
    "# Loading in all necessary libraries.\n",
    "\n",
    "library(tidyverse)\n",
    "library(tidymodels)\n",
    "library(repr)\n",
    "library(GGally)\n",
    "options(repr.matrix.max.rows = 10)\n",
    "\n",
    "set.seed(14)"
   ]
  },
  {
   "cell_type": "code",
   "execution_count": 174,
   "id": "654e3d1a-ac3e-4f78-b011-8a03fc03e7bc",
   "metadata": {},
   "outputs": [
    {
     "name": "stderr",
     "output_type": "stream",
     "text": [
      "Warning message in mask$eval_all_mutate(quo):\n",
      "“NAs introduced by coercion”\n",
      "Warning message in mask$eval_all_mutate(quo):\n",
      "“NAs introduced by coercion”\n"
     ]
    }
   ],
   "source": [
    "# Loading in Cleveland data set\n",
    "\n",
    "URL <- \"https://archive.ics.uci.edu/ml/machine-learning-databases/heart-disease/processed.cleveland.data\"\n",
    "\n",
    "cleveland_data <- read_csv(URL, col_names=FALSE, show_col_types = FALSE)\n",
    "\n",
    "# Since column names aren't pre-specified, we rename them using colnames, according to the UCI repository.\n",
    "\n",
    "colnames(cleveland_data) <- c(\"age\", \"sex\", \"cp\", \"trestbps\", \n",
    "                              \"chol\", \"fbs\", \"restecg\", \"thalach\", \n",
    "                              \"exang\", \"oldpeak\", \"slope\", \"ca\", \"thal\", \"num\")\n",
    "cleveland_data <- cleveland_data |>\n",
    "    mutate(ca = as.numeric(ca), thal = as.numeric(thal)) |>\n",
    "    filter(ca != \"NA\", thal != \"NA\")"
   ]
  },
  {
   "cell_type": "code",
   "execution_count": 153,
   "id": "e394317b-d2ff-4b9d-bfc5-099d8ca9383c",
   "metadata": {},
   "outputs": [],
   "source": [
    "#Adding column indicating yes or no for presence of heart disease\n",
    "cl_have_disease <- cleveland_data |>\n",
    "    filter(num == 1 | num == 2 | num == 3 | num == 4) |>\n",
    "    mutate(hd = \"yes\") |>\n",
    "    mutate(hd = as_factor(hd))\n",
    "cl_no_disease <- cleveland_data |>\n",
    "    filter(num == 0) |>\n",
    "    mutate(hd = \"no\") |>\n",
    "    mutate(hd = as_factor(hd))\n",
    "cl_data_alt <- rbind(cl_have_disease, cl_no_disease)"
   ]
  },
  {
   "cell_type": "code",
   "execution_count": 154,
   "id": "0df1733b-a897-48c3-8eba-3dafd8172357",
   "metadata": {},
   "outputs": [],
   "source": [
    "# Loading in Hungarian data set\n",
    "\n",
    "URL2 <- \"https://archive.ics.uci.edu/ml/machine-learning-databases/heart-disease/reprocessed.hungarian.data\"\n",
    "\n",
    "hungarian_data <- read_delim(URL2, col_names = FALSE, delim = \" \", show_col_types = FALSE)\n",
    "\n",
    "colnames(hungarian_data) <- c(\"age\", \"sex\", \"cp\", \"trestbps\", \n",
    "                              \"chol\", \"fbs\", \"restecg\", \"thalach\", \n",
    "                              \"exang\", \"oldpeak\", \"slope\", \"ca\", \"thal\", \"num\")\n",
    "\n",
    "# Combine levels 1,2,3,4 into hd column. Levels 1-4 as \"yes\", level 0 as \"no.\"\n",
    "hung_have_disease <- hungarian_data |>\n",
    "    filter(num == 1 | num == 2 | num == 3 | num == 4) |>\n",
    "    mutate(hd = \"yes\") |>\n",
    "    mutate(hd = as_factor(hd))\n",
    "hung_no_disease <- hungarian_data |>\n",
    "    filter(num == 0) |>\n",
    "    mutate(hd = \"no\") |>\n",
    "    mutate(hd = as_factor(hd))\n",
    "hung_data_alt <- rbind(hung_have_disease, hung_no_disease)"
   ]
  },
  {
   "cell_type": "code",
   "execution_count": 155,
   "id": "8720e93c-cc13-4c3b-8084-0767e6e83b36",
   "metadata": {},
   "outputs": [
    {
     "data": {
      "text/html": [
       "<table class=\"dataframe\">\n",
       "<caption>A tibble: 591 × 15</caption>\n",
       "<thead>\n",
       "\t<tr><th scope=col>age</th><th scope=col>sex</th><th scope=col>cp</th><th scope=col>trestbps</th><th scope=col>chol</th><th scope=col>fbs</th><th scope=col>restecg</th><th scope=col>thalach</th><th scope=col>exang</th><th scope=col>oldpeak</th><th scope=col>slope</th><th scope=col>ca</th><th scope=col>thal</th><th scope=col>num</th><th scope=col>hd</th></tr>\n",
       "\t<tr><th scope=col>&lt;dbl&gt;</th><th scope=col>&lt;dbl&gt;</th><th scope=col>&lt;dbl&gt;</th><th scope=col>&lt;dbl&gt;</th><th scope=col>&lt;dbl&gt;</th><th scope=col>&lt;dbl&gt;</th><th scope=col>&lt;dbl&gt;</th><th scope=col>&lt;dbl&gt;</th><th scope=col>&lt;dbl&gt;</th><th scope=col>&lt;dbl&gt;</th><th scope=col>&lt;dbl&gt;</th><th scope=col>&lt;dbl&gt;</th><th scope=col>&lt;dbl&gt;</th><th scope=col>&lt;dbl&gt;</th><th scope=col>&lt;fct&gt;</th></tr>\n",
       "</thead>\n",
       "<tbody>\n",
       "\t<tr><td>49</td><td>0</td><td>3</td><td>160</td><td>180</td><td>0</td><td>0</td><td>156</td><td>0</td><td>1.0</td><td>2</td><td>-9</td><td>-9</td><td>1</td><td>yes</td></tr>\n",
       "\t<tr><td>48</td><td>0</td><td>4</td><td>138</td><td>214</td><td>0</td><td>0</td><td>108</td><td>1</td><td>1.5</td><td>2</td><td>-9</td><td>-9</td><td>3</td><td>yes</td></tr>\n",
       "\t<tr><td>37</td><td>1</td><td>4</td><td>140</td><td>207</td><td>0</td><td>0</td><td>130</td><td>1</td><td>1.5</td><td>2</td><td>-9</td><td>-9</td><td>1</td><td>yes</td></tr>\n",
       "\t<tr><td>58</td><td>1</td><td>2</td><td>136</td><td>164</td><td>0</td><td>1</td><td> 99</td><td>1</td><td>2.0</td><td>2</td><td>-9</td><td>-9</td><td>3</td><td>yes</td></tr>\n",
       "\t<tr><td>49</td><td>1</td><td>4</td><td>140</td><td>234</td><td>0</td><td>0</td><td>140</td><td>1</td><td>1.0</td><td>2</td><td>-9</td><td>-9</td><td>3</td><td>yes</td></tr>\n",
       "\t<tr><td>⋮</td><td>⋮</td><td>⋮</td><td>⋮</td><td>⋮</td><td>⋮</td><td>⋮</td><td>⋮</td><td>⋮</td><td>⋮</td><td>⋮</td><td>⋮</td><td>⋮</td><td>⋮</td><td>⋮</td></tr>\n",
       "\t<tr><td>35</td><td>1</td><td>2</td><td>122</td><td>192</td><td>0</td><td>0</td><td>174</td><td>0</td><td>0.0</td><td>1</td><td>0</td><td>3</td><td>0</td><td>no</td></tr>\n",
       "\t<tr><td>56</td><td>1</td><td>2</td><td>130</td><td>221</td><td>0</td><td>2</td><td>163</td><td>0</td><td>0.0</td><td>1</td><td>0</td><td>7</td><td>0</td><td>no</td></tr>\n",
       "\t<tr><td>56</td><td>1</td><td>2</td><td>120</td><td>240</td><td>0</td><td>0</td><td>169</td><td>0</td><td>0.0</td><td>3</td><td>0</td><td>3</td><td>0</td><td>no</td></tr>\n",
       "\t<tr><td>55</td><td>0</td><td>2</td><td>132</td><td>342</td><td>0</td><td>0</td><td>166</td><td>0</td><td>1.2</td><td>1</td><td>0</td><td>3</td><td>0</td><td>no</td></tr>\n",
       "\t<tr><td>41</td><td>1</td><td>2</td><td>120</td><td>157</td><td>0</td><td>0</td><td>182</td><td>0</td><td>0.0</td><td>1</td><td>0</td><td>3</td><td>0</td><td>no</td></tr>\n",
       "</tbody>\n",
       "</table>\n"
      ],
      "text/latex": [
       "A tibble: 591 × 15\n",
       "\\begin{tabular}{lllllllllllllll}\n",
       " age & sex & cp & trestbps & chol & fbs & restecg & thalach & exang & oldpeak & slope & ca & thal & num & hd\\\\\n",
       " <dbl> & <dbl> & <dbl> & <dbl> & <dbl> & <dbl> & <dbl> & <dbl> & <dbl> & <dbl> & <dbl> & <dbl> & <dbl> & <dbl> & <fct>\\\\\n",
       "\\hline\n",
       "\t 49 & 0 & 3 & 160 & 180 & 0 & 0 & 156 & 0 & 1.0 & 2 & -9 & -9 & 1 & yes\\\\\n",
       "\t 48 & 0 & 4 & 138 & 214 & 0 & 0 & 108 & 1 & 1.5 & 2 & -9 & -9 & 3 & yes\\\\\n",
       "\t 37 & 1 & 4 & 140 & 207 & 0 & 0 & 130 & 1 & 1.5 & 2 & -9 & -9 & 1 & yes\\\\\n",
       "\t 58 & 1 & 2 & 136 & 164 & 0 & 1 &  99 & 1 & 2.0 & 2 & -9 & -9 & 3 & yes\\\\\n",
       "\t 49 & 1 & 4 & 140 & 234 & 0 & 0 & 140 & 1 & 1.0 & 2 & -9 & -9 & 3 & yes\\\\\n",
       "\t ⋮ & ⋮ & ⋮ & ⋮ & ⋮ & ⋮ & ⋮ & ⋮ & ⋮ & ⋮ & ⋮ & ⋮ & ⋮ & ⋮ & ⋮\\\\\n",
       "\t 35 & 1 & 2 & 122 & 192 & 0 & 0 & 174 & 0 & 0.0 & 1 & 0 & 3 & 0 & no\\\\\n",
       "\t 56 & 1 & 2 & 130 & 221 & 0 & 2 & 163 & 0 & 0.0 & 1 & 0 & 7 & 0 & no\\\\\n",
       "\t 56 & 1 & 2 & 120 & 240 & 0 & 0 & 169 & 0 & 0.0 & 3 & 0 & 3 & 0 & no\\\\\n",
       "\t 55 & 0 & 2 & 132 & 342 & 0 & 0 & 166 & 0 & 1.2 & 1 & 0 & 3 & 0 & no\\\\\n",
       "\t 41 & 1 & 2 & 120 & 157 & 0 & 0 & 182 & 0 & 0.0 & 1 & 0 & 3 & 0 & no\\\\\n",
       "\\end{tabular}\n"
      ],
      "text/markdown": [
       "\n",
       "A tibble: 591 × 15\n",
       "\n",
       "| age &lt;dbl&gt; | sex &lt;dbl&gt; | cp &lt;dbl&gt; | trestbps &lt;dbl&gt; | chol &lt;dbl&gt; | fbs &lt;dbl&gt; | restecg &lt;dbl&gt; | thalach &lt;dbl&gt; | exang &lt;dbl&gt; | oldpeak &lt;dbl&gt; | slope &lt;dbl&gt; | ca &lt;dbl&gt; | thal &lt;dbl&gt; | num &lt;dbl&gt; | hd &lt;fct&gt; |\n",
       "|---|---|---|---|---|---|---|---|---|---|---|---|---|---|---|\n",
       "| 49 | 0 | 3 | 160 | 180 | 0 | 0 | 156 | 0 | 1.0 | 2 | -9 | -9 | 1 | yes |\n",
       "| 48 | 0 | 4 | 138 | 214 | 0 | 0 | 108 | 1 | 1.5 | 2 | -9 | -9 | 3 | yes |\n",
       "| 37 | 1 | 4 | 140 | 207 | 0 | 0 | 130 | 1 | 1.5 | 2 | -9 | -9 | 1 | yes |\n",
       "| 58 | 1 | 2 | 136 | 164 | 0 | 1 |  99 | 1 | 2.0 | 2 | -9 | -9 | 3 | yes |\n",
       "| 49 | 1 | 4 | 140 | 234 | 0 | 0 | 140 | 1 | 1.0 | 2 | -9 | -9 | 3 | yes |\n",
       "| ⋮ | ⋮ | ⋮ | ⋮ | ⋮ | ⋮ | ⋮ | ⋮ | ⋮ | ⋮ | ⋮ | ⋮ | ⋮ | ⋮ | ⋮ |\n",
       "| 35 | 1 | 2 | 122 | 192 | 0 | 0 | 174 | 0 | 0.0 | 1 | 0 | 3 | 0 | no |\n",
       "| 56 | 1 | 2 | 130 | 221 | 0 | 2 | 163 | 0 | 0.0 | 1 | 0 | 7 | 0 | no |\n",
       "| 56 | 1 | 2 | 120 | 240 | 0 | 0 | 169 | 0 | 0.0 | 3 | 0 | 3 | 0 | no |\n",
       "| 55 | 0 | 2 | 132 | 342 | 0 | 0 | 166 | 0 | 1.2 | 1 | 0 | 3 | 0 | no |\n",
       "| 41 | 1 | 2 | 120 | 157 | 0 | 0 | 182 | 0 | 0.0 | 1 | 0 | 3 | 0 | no |\n",
       "\n"
      ],
      "text/plain": [
       "    age sex cp trestbps chol fbs restecg thalach exang oldpeak slope ca thal\n",
       "1   49  0   3  160      180  0   0       156     0     1.0     2     -9 -9  \n",
       "2   48  0   4  138      214  0   0       108     1     1.5     2     -9 -9  \n",
       "3   37  1   4  140      207  0   0       130     1     1.5     2     -9 -9  \n",
       "4   58  1   2  136      164  0   1        99     1     2.0     2     -9 -9  \n",
       "5   49  1   4  140      234  0   0       140     1     1.0     2     -9 -9  \n",
       "⋮   ⋮   ⋮   ⋮  ⋮        ⋮    ⋮   ⋮       ⋮       ⋮     ⋮       ⋮     ⋮  ⋮   \n",
       "587 35  1   2  122      192  0   0       174     0     0.0     1     0  3   \n",
       "588 56  1   2  130      221  0   2       163     0     0.0     1     0  7   \n",
       "589 56  1   2  120      240  0   0       169     0     0.0     3     0  3   \n",
       "590 55  0   2  132      342  0   0       166     0     1.2     1     0  3   \n",
       "591 41  1   2  120      157  0   0       182     0     0.0     1     0  3   \n",
       "    num hd \n",
       "1   1   yes\n",
       "2   3   yes\n",
       "3   1   yes\n",
       "4   3   yes\n",
       "5   3   yes\n",
       "⋮   ⋮   ⋮  \n",
       "587 0   no \n",
       "588 0   no \n",
       "589 0   no \n",
       "590 0   no \n",
       "591 0   no "
      ]
     },
     "metadata": {},
     "output_type": "display_data"
    }
   ],
   "source": [
    "heart_data <- rbind(hung_data_alt, cl_data_alt)\n",
    "heart_data"
   ]
  },
  {
   "cell_type": "code",
   "execution_count": 156,
   "id": "f0218884-32bd-442d-8ace-5184dc89a8fd",
   "metadata": {},
   "outputs": [
    {
     "data": {
      "text/html": [
       "<table class=\"dataframe\">\n",
       "<caption>A tibble: 2 × 3</caption>\n",
       "<thead>\n",
       "\t<tr><th scope=col>hd</th><th scope=col>count</th><th scope=col>percentage</th></tr>\n",
       "\t<tr><th scope=col>&lt;fct&gt;</th><th scope=col>&lt;int&gt;</th><th scope=col>&lt;dbl&gt;</th></tr>\n",
       "</thead>\n",
       "<tbody>\n",
       "\t<tr><td>yes</td><td>243</td><td>41.11675</td></tr>\n",
       "\t<tr><td>no </td><td>348</td><td>58.88325</td></tr>\n",
       "</tbody>\n",
       "</table>\n"
      ],
      "text/latex": [
       "A tibble: 2 × 3\n",
       "\\begin{tabular}{lll}\n",
       " hd & count & percentage\\\\\n",
       " <fct> & <int> & <dbl>\\\\\n",
       "\\hline\n",
       "\t yes & 243 & 41.11675\\\\\n",
       "\t no  & 348 & 58.88325\\\\\n",
       "\\end{tabular}\n"
      ],
      "text/markdown": [
       "\n",
       "A tibble: 2 × 3\n",
       "\n",
       "| hd &lt;fct&gt; | count &lt;int&gt; | percentage &lt;dbl&gt; |\n",
       "|---|---|---|\n",
       "| yes | 243 | 41.11675 |\n",
       "| no  | 348 | 58.88325 |\n",
       "\n"
      ],
      "text/plain": [
       "  hd  count percentage\n",
       "1 yes 243   41.11675  \n",
       "2 no  348   58.88325  "
      ]
     },
     "metadata": {},
     "output_type": "display_data"
    }
   ],
   "source": [
    "# Percentages of hd (yes, no) \n",
    "num_obs_h <- nrow(heart_data)\n",
    "heart_proportions <- heart_data |>\n",
    "    group_by(hd) |>\n",
    "    summarize(\n",
    "        count = n(),\n",
    "        percentage = n() / num_obs_h * 100\n",
    "        )\n",
    "heart_proportions"
   ]
  },
  {
   "cell_type": "code",
   "execution_count": 157,
   "id": "9f6c8f2a-4ffd-4b1e-ab79-e58ad5ddd19f",
   "metadata": {},
   "outputs": [],
   "source": [
    "#Creating Training and Testing Data Sets\n",
    "heart_split <- initial_split(heart_data, prop = 0.75, strata = hd)\n",
    "heart_training <- training(heart_split)\n",
    "heart_testing <- testing(heart_split)"
   ]
  },
  {
   "cell_type": "markdown",
   "id": "d231e117-73ae-4632-9f49-1e0fb37f68d6",
   "metadata": {},
   "source": [
    "**Finding the Best Predictors using Forward Selection From Textbook**"
   ]
  },
  {
   "cell_type": "markdown",
   "id": "72098baf-9c92-492a-af93-28f218f6d0b7",
   "metadata": {},
   "source": [
    "Warning: Code takes 8-9 min. to run"
   ]
  },
  {
   "cell_type": "code",
   "execution_count": 160,
   "id": "af155fa9-a2f9-48f5-afd4-fd1dc11d207d",
   "metadata": {},
   "outputs": [
    {
     "data": {
      "text/html": [
       "<table class=\"dataframe\">\n",
       "<caption>A tibble: 13 × 3</caption>\n",
       "<thead>\n",
       "\t<tr><th scope=col>size</th><th scope=col>model_string</th><th scope=col>accuracy</th></tr>\n",
       "\t<tr><th scope=col>&lt;int&gt;</th><th scope=col>&lt;chr&gt;</th><th scope=col>&lt;dbl&gt;</th></tr>\n",
       "</thead>\n",
       "<tbody>\n",
       "\t<tr><td>1</td><td>hd ~ oldpeak                 </td><td>0.7293003</td></tr>\n",
       "\t<tr><td>2</td><td>hd ~ oldpeak+cp              </td><td>0.8149796</td></tr>\n",
       "\t<tr><td>3</td><td>hd ~ oldpeak+cp+thal         </td><td>0.8329832</td></tr>\n",
       "\t<tr><td>4</td><td>hd ~ oldpeak+cp+thal+slope   </td><td>0.8397253</td></tr>\n",
       "\t<tr><td>5</td><td>hd ~ oldpeak+cp+thal+slope+ca</td><td>0.8374526</td></tr>\n",
       "\t<tr><td>⋮</td><td>⋮</td><td>⋮</td></tr>\n",
       "\t<tr><td> 9</td><td>hd ~ oldpeak+cp+thal+slope+ca+restecg+fbs+sex+thalach                        </td><td>0.8239695</td></tr>\n",
       "\t<tr><td>10</td><td>hd ~ oldpeak+cp+thal+slope+ca+restecg+fbs+sex+thalach+trestbps               </td><td>0.8261667</td></tr>\n",
       "\t<tr><td>11</td><td>hd ~ oldpeak+cp+thal+slope+ca+restecg+fbs+sex+thalach+trestbps+exang         </td><td>0.8307877</td></tr>\n",
       "\t<tr><td>12</td><td>hd ~ oldpeak+cp+thal+slope+ca+restecg+fbs+sex+thalach+trestbps+exang+age     </td><td>0.8285149</td></tr>\n",
       "\t<tr><td>13</td><td>hd ~ oldpeak+cp+thal+slope+ca+restecg+fbs+sex+thalach+trestbps+exang+age+chol</td><td>0.8284133</td></tr>\n",
       "</tbody>\n",
       "</table>\n"
      ],
      "text/latex": [
       "A tibble: 13 × 3\n",
       "\\begin{tabular}{lll}\n",
       " size & model\\_string & accuracy\\\\\n",
       " <int> & <chr> & <dbl>\\\\\n",
       "\\hline\n",
       "\t 1 & hd \\textasciitilde{} oldpeak                  & 0.7293003\\\\\n",
       "\t 2 & hd \\textasciitilde{} oldpeak+cp               & 0.8149796\\\\\n",
       "\t 3 & hd \\textasciitilde{} oldpeak+cp+thal          & 0.8329832\\\\\n",
       "\t 4 & hd \\textasciitilde{} oldpeak+cp+thal+slope    & 0.8397253\\\\\n",
       "\t 5 & hd \\textasciitilde{} oldpeak+cp+thal+slope+ca & 0.8374526\\\\\n",
       "\t ⋮ & ⋮ & ⋮\\\\\n",
       "\t  9 & hd \\textasciitilde{} oldpeak+cp+thal+slope+ca+restecg+fbs+sex+thalach                         & 0.8239695\\\\\n",
       "\t 10 & hd \\textasciitilde{} oldpeak+cp+thal+slope+ca+restecg+fbs+sex+thalach+trestbps                & 0.8261667\\\\\n",
       "\t 11 & hd \\textasciitilde{} oldpeak+cp+thal+slope+ca+restecg+fbs+sex+thalach+trestbps+exang          & 0.8307877\\\\\n",
       "\t 12 & hd \\textasciitilde{} oldpeak+cp+thal+slope+ca+restecg+fbs+sex+thalach+trestbps+exang+age      & 0.8285149\\\\\n",
       "\t 13 & hd \\textasciitilde{} oldpeak+cp+thal+slope+ca+restecg+fbs+sex+thalach+trestbps+exang+age+chol & 0.8284133\\\\\n",
       "\\end{tabular}\n"
      ],
      "text/markdown": [
       "\n",
       "A tibble: 13 × 3\n",
       "\n",
       "| size &lt;int&gt; | model_string &lt;chr&gt; | accuracy &lt;dbl&gt; |\n",
       "|---|---|---|\n",
       "| 1 | hd ~ oldpeak                  | 0.7293003 |\n",
       "| 2 | hd ~ oldpeak+cp               | 0.8149796 |\n",
       "| 3 | hd ~ oldpeak+cp+thal          | 0.8329832 |\n",
       "| 4 | hd ~ oldpeak+cp+thal+slope    | 0.8397253 |\n",
       "| 5 | hd ~ oldpeak+cp+thal+slope+ca | 0.8374526 |\n",
       "| ⋮ | ⋮ | ⋮ |\n",
       "|  9 | hd ~ oldpeak+cp+thal+slope+ca+restecg+fbs+sex+thalach                         | 0.8239695 |\n",
       "| 10 | hd ~ oldpeak+cp+thal+slope+ca+restecg+fbs+sex+thalach+trestbps                | 0.8261667 |\n",
       "| 11 | hd ~ oldpeak+cp+thal+slope+ca+restecg+fbs+sex+thalach+trestbps+exang          | 0.8307877 |\n",
       "| 12 | hd ~ oldpeak+cp+thal+slope+ca+restecg+fbs+sex+thalach+trestbps+exang+age      | 0.8285149 |\n",
       "| 13 | hd ~ oldpeak+cp+thal+slope+ca+restecg+fbs+sex+thalach+trestbps+exang+age+chol | 0.8284133 |\n",
       "\n"
      ],
      "text/plain": [
       "   size\n",
       "1  1   \n",
       "2  2   \n",
       "3  3   \n",
       "4  4   \n",
       "5  5   \n",
       "⋮  ⋮   \n",
       "9   9  \n",
       "10 10  \n",
       "11 11  \n",
       "12 12  \n",
       "13 13  \n",
       "   model_string                                                                 \n",
       "1  hd ~ oldpeak                                                                 \n",
       "2  hd ~ oldpeak+cp                                                              \n",
       "3  hd ~ oldpeak+cp+thal                                                         \n",
       "4  hd ~ oldpeak+cp+thal+slope                                                   \n",
       "5  hd ~ oldpeak+cp+thal+slope+ca                                                \n",
       "⋮  ⋮                                                                            \n",
       "9  hd ~ oldpeak+cp+thal+slope+ca+restecg+fbs+sex+thalach                        \n",
       "10 hd ~ oldpeak+cp+thal+slope+ca+restecg+fbs+sex+thalach+trestbps               \n",
       "11 hd ~ oldpeak+cp+thal+slope+ca+restecg+fbs+sex+thalach+trestbps+exang         \n",
       "12 hd ~ oldpeak+cp+thal+slope+ca+restecg+fbs+sex+thalach+trestbps+exang+age     \n",
       "13 hd ~ oldpeak+cp+thal+slope+ca+restecg+fbs+sex+thalach+trestbps+exang+age+chol\n",
       "   accuracy \n",
       "1  0.7293003\n",
       "2  0.8149796\n",
       "3  0.8329832\n",
       "4  0.8397253\n",
       "5  0.8374526\n",
       "⋮  ⋮        \n",
       "9  0.8239695\n",
       "10 0.8261667\n",
       "11 0.8307877\n",
       "12 0.8285149\n",
       "13 0.8284133"
      ]
     },
     "metadata": {},
     "output_type": "display_data"
    }
   ],
   "source": [
    "#Created a duplicate set to perform Forward Selection\n",
    "#Standardized this new subset\n",
    "heart_subset <- heart_training |> select(-num)\n",
    "\n",
    "#Implementing Forward Selection Code to find best predictors\n",
    "names <- colnames(heart_subset |> select(-hd))\n",
    "\n",
    "#create a tibble to store accuracies\n",
    "accuracies <- tibble(size = integer(), \n",
    "                     model_string = character(), \n",
    "                     accuracy = numeric())\n",
    "\n",
    "#create a model spec\n",
    "knn_FS_spec <- nearest_neighbor(weight_func = \"rectangular\",\n",
    "                             neighbors = tune()) |>\n",
    "    set_engine(\"kknn\") |>\n",
    "    set_mode(\"classification\")\n",
    "\n",
    "#create a 5-fold cross-validation object\n",
    "heart_vfold <- vfold_cv(heart_subset, v = 5, strata = hd)\n",
    "\n",
    "#store the total number of predictors\n",
    "n_total <- length(names)\n",
    "\n",
    "#stores selected predictors\n",
    "selected <- c()\n",
    "for (i in 1:n_total) {\n",
    "    accs <- list()\n",
    "    models <- list()\n",
    "    for (j in 1:length(names)) {\n",
    "        preds_new <- c(selected, names[[j]])\n",
    "        model_string <- paste(\"hd\", \"~\", paste(preds_new, collapse=\"+\"))\n",
    "        heart_FS_recipe <- recipe(as.formula(model_string),\n",
    "                                data = heart_subset) |>\n",
    "                            step_scale(all_predictors()) |>\n",
    "                            step_center(all_predictors())\n",
    "        acc <- workflow() |>\n",
    "            add_recipe(heart_FS_recipe) |>\n",
    "            add_model(knn_FS_spec) |>\n",
    "            tune_grid(resamples = heart_vfold, grid = 10) |>\n",
    "            collect_metrics() |>\n",
    "            filter(.metric == \"accuracy\") |>\n",
    "            summarize(mx = max(mean))\n",
    "        acc <- acc$mx |> unlist()\n",
    "        accs[[j]] <- acc\n",
    "        models[[j]] <- model_string\n",
    "    }\n",
    "    jstar <- which.max(unlist(accs))\n",
    "    accuracies <- accuracies |>\n",
    "        add_row(size = i,\n",
    "                model_string = models[[jstar]],\n",
    "                accuracy = accs[[jstar]])\n",
    "    selected <- c(selected, names[[jstar]])\n",
    "    names <- names[-jstar]\n",
    "}\n",
    "accuracies"
   ]
  },
  {
   "cell_type": "code",
   "execution_count": 163,
   "id": "615aa344-0d8d-42eb-a076-2213acfcd4bb",
   "metadata": {},
   "outputs": [
    {
     "data": {
      "image/png": "[encoded data removed]",
      "text/plain": [
       "plot without title"
      ]
     },
     "metadata": {
      "image/png": {
       "height": 420,
       "width": 420
      }
     },
     "output_type": "display_data"
    }
   ],
   "source": [
    "best_preds_plot <- ggplot(accuracies, aes(x = size, y = accuracy)) +\n",
    "    geom_line() +\n",
    "    xlab(\"Number of Predictors\") +\n",
    "    ylab(\"Estimated Accuracy\") +\n",
    "    scale_x_continuous(breaks = 1:13) +\n",
    "    theme(text = element_text(size = 15))\n",
    "best_preds_plot"
   ]
  },
  {
   "cell_type": "code",
   "execution_count": 165,
   "id": "c390196b-63f3-47dc-8fc6-371e200496b1",
   "metadata": {},
   "outputs": [
    {
     "data": {
      "text/html": [
       "<table class=\"dataframe\">\n",
       "<caption>A tibble: 2 × 3</caption>\n",
       "<thead>\n",
       "\t<tr><th scope=col>size</th><th scope=col>model_string</th><th scope=col>accuracy</th></tr>\n",
       "\t<tr><th scope=col>&lt;int&gt;</th><th scope=col>&lt;chr&gt;</th><th scope=col>&lt;dbl&gt;</th></tr>\n",
       "</thead>\n",
       "<tbody>\n",
       "\t<tr><td>4</td><td>hd ~ oldpeak+cp+thal+slope               </td><td>0.8397253</td></tr>\n",
       "\t<tr><td>7</td><td>hd ~ oldpeak+cp+thal+slope+ca+restecg+fbs</td><td>0.8374782</td></tr>\n",
       "</tbody>\n",
       "</table>\n"
      ],
      "text/latex": [
       "A tibble: 2 × 3\n",
       "\\begin{tabular}{lll}\n",
       " size & model\\_string & accuracy\\\\\n",
       " <int> & <chr> & <dbl>\\\\\n",
       "\\hline\n",
       "\t 4 & hd \\textasciitilde{} oldpeak+cp+thal+slope                & 0.8397253\\\\\n",
       "\t 7 & hd \\textasciitilde{} oldpeak+cp+thal+slope+ca+restecg+fbs & 0.8374782\\\\\n",
       "\\end{tabular}\n"
      ],
      "text/markdown": [
       "\n",
       "A tibble: 2 × 3\n",
       "\n",
       "| size &lt;int&gt; | model_string &lt;chr&gt; | accuracy &lt;dbl&gt; |\n",
       "|---|---|---|\n",
       "| 4 | hd ~ oldpeak+cp+thal+slope                | 0.8397253 |\n",
       "| 7 | hd ~ oldpeak+cp+thal+slope+ca+restecg+fbs | 0.8374782 |\n",
       "\n"
      ],
      "text/plain": [
       "  size model_string                              accuracy \n",
       "1 4    hd ~ oldpeak+cp+thal+slope                0.8397253\n",
       "2 7    hd ~ oldpeak+cp+thal+slope+ca+restecg+fbs 0.8374782"
      ]
     },
     "metadata": {},
     "output_type": "display_data"
    }
   ],
   "source": [
    "best_preds <- accuracies |> slice(4,7)\n",
    "best_preds"
   ]
  },
  {
   "cell_type": "markdown",
   "id": "72b62be0-e5b3-4c21-98f7-d0a97ba15849",
   "metadata": {},
   "source": [
    "Using 4 and 7 predictors produce a similar accuracy, with 4 being slightly better. Thus, the best predictors are \"oldpeak\", \"cp\", \"thal\", and \"slope\"."
   ]
  }
 ],
 "metadata": {
  "kernelspec": {
   "display_name": "R",
   "language": "R",
   "name": "ir"
  },
  "language_info": {
   "codemirror_mode": "r",
   "file_extension": ".r",
   "mimetype": "text/x-r-source",
   "name": "R",
   "pygments_lexer": "r",
   "version": "4.1.3"
  }
 },
 "nbformat": 4,
 "nbformat_minor": 5
}
