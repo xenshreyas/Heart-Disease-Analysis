{
 "cells": [
  {
   "cell_type": "markdown",
   "id": "032d9762-e560-4940-9898-8ac61c96c0a9",
   "metadata": {},
   "source": [
    "**Preprocessing the Data**"
   ]
  },
  {
   "cell_type": "code",
   "execution_count": 1,
   "id": "c4f20b8a-e88c-4ef9-a1dc-e614e0cfa01b",
   "metadata": {},
   "outputs": [
    {
     "name": "stderr",
     "output_type": "stream",
     "text": [
      "── \u001b[1mAttaching packages\u001b[22m ─────────────────────────────────────── tidyverse 1.3.1 ──\n",
      "\n",
      "\u001b[32m✔\u001b[39m \u001b[34mggplot2\u001b[39m 3.3.6     \u001b[32m✔\u001b[39m \u001b[34mpurrr  \u001b[39m 0.3.4\n",
      "\u001b[32m✔\u001b[39m \u001b[34mtibble \u001b[39m 3.1.7     \u001b[32m✔\u001b[39m \u001b[34mdplyr  \u001b[39m 1.0.9\n",
      "\u001b[32m✔\u001b[39m \u001b[34mtidyr  \u001b[39m 1.2.0     \u001b[32m✔\u001b[39m \u001b[34mstringr\u001b[39m 1.4.0\n",
      "\u001b[32m✔\u001b[39m \u001b[34mreadr  \u001b[39m 2.1.2     \u001b[32m✔\u001b[39m \u001b[34mforcats\u001b[39m 0.5.1\n",
      "\n",
      "── \u001b[1mConflicts\u001b[22m ────────────────────────────────────────── tidyverse_conflicts() ──\n",
      "\u001b[31m✖\u001b[39m \u001b[34mdplyr\u001b[39m::\u001b[32mfilter()\u001b[39m masks \u001b[34mstats\u001b[39m::filter()\n",
      "\u001b[31m✖\u001b[39m \u001b[34mdplyr\u001b[39m::\u001b[32mlag()\u001b[39m    masks \u001b[34mstats\u001b[39m::lag()\n",
      "\n",
      "── \u001b[1mAttaching packages\u001b[22m ────────────────────────────────────── tidymodels 1.0.0 ──\n",
      "\n",
      "\u001b[32m✔\u001b[39m \u001b[34mbroom       \u001b[39m 1.0.0     \u001b[32m✔\u001b[39m \u001b[34mrsample     \u001b[39m 1.0.0\n",
      "\u001b[32m✔\u001b[39m \u001b[34mdials       \u001b[39m 1.0.0     \u001b[32m✔\u001b[39m \u001b[34mtune        \u001b[39m 1.0.0\n",
      "\u001b[32m✔\u001b[39m \u001b[34minfer       \u001b[39m 1.0.2     \u001b[32m✔\u001b[39m \u001b[34mworkflows   \u001b[39m 1.0.0\n",
      "\u001b[32m✔\u001b[39m \u001b[34mmodeldata   \u001b[39m 1.0.0     \u001b[32m✔\u001b[39m \u001b[34mworkflowsets\u001b[39m 1.0.0\n",
      "\u001b[32m✔\u001b[39m \u001b[34mparsnip     \u001b[39m 1.0.0     \u001b[32m✔\u001b[39m \u001b[34myardstick   \u001b[39m 1.0.0\n",
      "\u001b[32m✔\u001b[39m \u001b[34mrecipes     \u001b[39m 1.0.1     \n",
      "\n",
      "── \u001b[1mConflicts\u001b[22m ───────────────────────────────────────── tidymodels_conflicts() ──\n",
      "\u001b[31m✖\u001b[39m \u001b[34mscales\u001b[39m::\u001b[32mdiscard()\u001b[39m masks \u001b[34mpurrr\u001b[39m::discard()\n",
      "\u001b[31m✖\u001b[39m \u001b[34mdplyr\u001b[39m::\u001b[32mfilter()\u001b[39m   masks \u001b[34mstats\u001b[39m::filter()\n",
      "\u001b[31m✖\u001b[39m \u001b[34mrecipes\u001b[39m::\u001b[32mfixed()\u001b[39m  masks \u001b[34mstringr\u001b[39m::fixed()\n",
      "\u001b[31m✖\u001b[39m \u001b[34mdplyr\u001b[39m::\u001b[32mlag()\u001b[39m      masks \u001b[34mstats\u001b[39m::lag()\n",
      "\u001b[31m✖\u001b[39m \u001b[34myardstick\u001b[39m::\u001b[32mspec()\u001b[39m masks \u001b[34mreadr\u001b[39m::spec()\n",
      "\u001b[31m✖\u001b[39m \u001b[34mrecipes\u001b[39m::\u001b[32mstep()\u001b[39m   masks \u001b[34mstats\u001b[39m::step()\n",
      "\u001b[34m•\u001b[39m Use suppressPackageStartupMessages() to eliminate package startup messages\n",
      "\n",
      "Registered S3 method overwritten by 'GGally':\n",
      "  method from   \n",
      "  +.gg   ggplot2\n",
      "\n"
     ]
    }
   ],
   "source": [
    "# Loading in all necessary libraries.\n",
    "\n",
    "library(tidyverse)\n",
    "library(tidymodels)\n",
    "library(repr)\n",
    "library(GGally)\n",
    "options(repr.matrix.max.rows = 10)\n",
    "\n",
    "# Setting the seed.\n",
    "set.seed(14)"
   ]
  },
  {
   "cell_type": "code",
   "execution_count": 2,
   "id": "654e3d1a-ac3e-4f78-b011-8a03fc03e7bc",
   "metadata": {},
   "outputs": [
    {
     "name": "stderr",
     "output_type": "stream",
     "text": [
      "Warning message in mask$eval_all_mutate(quo):\n",
      "“NAs introduced by coercion”\n",
      "Warning message in mask$eval_all_mutate(quo):\n",
      "“NAs introduced by coercion”\n"
     ]
    }
   ],
   "source": [
    "# Loading in Cleveland data set\n",
    "\n",
    "URL <- \"https://archive.ics.uci.edu/ml/machine-learning-databases/heart-disease/processed.cleveland.data\"\n",
    "\n",
    "cleveland_data <- read_csv(URL, col_names=FALSE, show_col_types = FALSE)\n",
    "\n",
    "# Since column names aren't pre-specified, we rename them using colnames, according to the UCI repository.\n",
    "\n",
    "colnames(cleveland_data) <- c(\"age\", \"sex\", \"cp\", \"trestbps\", \n",
    "                              \"chol\", \"fbs\", \"restecg\", \"thalach\", \n",
    "                              \"exang\", \"oldpeak\", \"slope\", \"ca\", \"thal\", \"num\")\n",
    "\n",
    "cleveland_data <- cleveland_data |>\n",
    "    mutate(ca = as.numeric(ca), thal = as.numeric(thal)) |>\n",
    "    filter(ca != \"NA\", thal != \"NA\")"
   ]
  },
  {
   "cell_type": "code",
   "execution_count": 3,
   "id": "e394317b-d2ff-4b9d-bfc5-099d8ca9383c",
   "metadata": {},
   "outputs": [],
   "source": [
    "# Adding column indicating yes or no for presence of heart disease\n",
    "\n",
    "cl_have_disease <- cleveland_data |>\n",
    "    filter(num == 1 | num == 2 | num == 3 | num == 4) |>\n",
    "    mutate(hd = \"yes\") |>\n",
    "    mutate(hd = as_factor(hd))\n",
    "cl_no_disease <- cleveland_data |>\n",
    "    filter(num == 0) |>\n",
    "    mutate(hd = \"no\") |>\n",
    "    mutate(hd = as_factor(hd))\n",
    "cl_data_alt <- rbind(cl_have_disease, cl_no_disease)"
   ]
  },
  {
   "cell_type": "code",
   "execution_count": 4,
   "id": "0df1733b-a897-48c3-8eba-3dafd8172357",
   "metadata": {},
   "outputs": [],
   "source": [
    "# Loading in Hungarian data set\n",
    "\n",
    "URL2 <- \"https://archive.ics.uci.edu/ml/machine-learning-databases/heart-disease/reprocessed.hungarian.data\"\n",
    "\n",
    "hungarian_data <- read_delim(URL2, col_names = FALSE, delim = \" \", show_col_types = FALSE)\n",
    "\n",
    "colnames(hungarian_data) <- c(\"age\", \"sex\", \"cp\", \"trestbps\", \n",
    "                              \"chol\", \"fbs\", \"restecg\", \"thalach\", \n",
    "                              \"exang\", \"oldpeak\", \"slope\", \"ca\", \"thal\", \"num\")\n",
    "\n",
    "\n",
    "# Combine levels 1,2,3,4 into hd column. Levels 1-4 as \"yes\", level 0 as \"no.\"\n",
    "\n",
    "hung_have_disease <- hungarian_data |>\n",
    "    filter(num == 1 | num == 2 | num == 3 | num == 4) |>\n",
    "    mutate(hd = \"yes\") |>\n",
    "    mutate(hd = as_factor(hd))\n",
    "\n",
    "hung_no_disease <- hungarian_data |>\n",
    "    filter(num == 0) |>\n",
    "    mutate(hd = \"no\") |>\n",
    "    mutate(hd = as_factor(hd))\n",
    "\n",
    "hung_data_alt <- rbind(hung_have_disease, hung_no_disease)"
   ]
  },
  {
   "cell_type": "code",
   "execution_count": 5,
   "id": "8720e93c-cc13-4c3b-8084-0767e6e83b36",
   "metadata": {},
   "outputs": [
    {
     "data": {
      "text/html": [
       "<table class=\"dataframe\">\n",
       "<caption>A tibble: 591 × 15</caption>\n",
       "<thead>\n",
       "\t<tr><th scope=col>age</th><th scope=col>sex</th><th scope=col>cp</th><th scope=col>trestbps</th><th scope=col>chol</th><th scope=col>fbs</th><th scope=col>restecg</th><th scope=col>thalach</th><th scope=col>exang</th><th scope=col>oldpeak</th><th scope=col>slope</th><th scope=col>ca</th><th scope=col>thal</th><th scope=col>num</th><th scope=col>hd</th></tr>\n",
       "\t<tr><th scope=col>&lt;dbl&gt;</th><th scope=col>&lt;dbl&gt;</th><th scope=col>&lt;dbl&gt;</th><th scope=col>&lt;dbl&gt;</th><th scope=col>&lt;dbl&gt;</th><th scope=col>&lt;dbl&gt;</th><th scope=col>&lt;dbl&gt;</th><th scope=col>&lt;dbl&gt;</th><th scope=col>&lt;dbl&gt;</th><th scope=col>&lt;dbl&gt;</th><th scope=col>&lt;dbl&gt;</th><th scope=col>&lt;dbl&gt;</th><th scope=col>&lt;dbl&gt;</th><th scope=col>&lt;dbl&gt;</th><th scope=col>&lt;fct&gt;</th></tr>\n",
       "</thead>\n",
       "<tbody>\n",
       "\t<tr><td>49</td><td>0</td><td>3</td><td>160</td><td>180</td><td>0</td><td>0</td><td>156</td><td>0</td><td>1.0</td><td>2</td><td>-9</td><td>-9</td><td>1</td><td>yes</td></tr>\n",
       "\t<tr><td>48</td><td>0</td><td>4</td><td>138</td><td>214</td><td>0</td><td>0</td><td>108</td><td>1</td><td>1.5</td><td>2</td><td>-9</td><td>-9</td><td>3</td><td>yes</td></tr>\n",
       "\t<tr><td>37</td><td>1</td><td>4</td><td>140</td><td>207</td><td>0</td><td>0</td><td>130</td><td>1</td><td>1.5</td><td>2</td><td>-9</td><td>-9</td><td>1</td><td>yes</td></tr>\n",
       "\t<tr><td>58</td><td>1</td><td>2</td><td>136</td><td>164</td><td>0</td><td>1</td><td> 99</td><td>1</td><td>2.0</td><td>2</td><td>-9</td><td>-9</td><td>3</td><td>yes</td></tr>\n",
       "\t<tr><td>49</td><td>1</td><td>4</td><td>140</td><td>234</td><td>0</td><td>0</td><td>140</td><td>1</td><td>1.0</td><td>2</td><td>-9</td><td>-9</td><td>3</td><td>yes</td></tr>\n",
       "\t<tr><td>⋮</td><td>⋮</td><td>⋮</td><td>⋮</td><td>⋮</td><td>⋮</td><td>⋮</td><td>⋮</td><td>⋮</td><td>⋮</td><td>⋮</td><td>⋮</td><td>⋮</td><td>⋮</td><td>⋮</td></tr>\n",
       "\t<tr><td>35</td><td>1</td><td>2</td><td>122</td><td>192</td><td>0</td><td>0</td><td>174</td><td>0</td><td>0.0</td><td>1</td><td>0</td><td>3</td><td>0</td><td>no</td></tr>\n",
       "\t<tr><td>56</td><td>1</td><td>2</td><td>130</td><td>221</td><td>0</td><td>2</td><td>163</td><td>0</td><td>0.0</td><td>1</td><td>0</td><td>7</td><td>0</td><td>no</td></tr>\n",
       "\t<tr><td>56</td><td>1</td><td>2</td><td>120</td><td>240</td><td>0</td><td>0</td><td>169</td><td>0</td><td>0.0</td><td>3</td><td>0</td><td>3</td><td>0</td><td>no</td></tr>\n",
       "\t<tr><td>55</td><td>0</td><td>2</td><td>132</td><td>342</td><td>0</td><td>0</td><td>166</td><td>0</td><td>1.2</td><td>1</td><td>0</td><td>3</td><td>0</td><td>no</td></tr>\n",
       "\t<tr><td>41</td><td>1</td><td>2</td><td>120</td><td>157</td><td>0</td><td>0</td><td>182</td><td>0</td><td>0.0</td><td>1</td><td>0</td><td>3</td><td>0</td><td>no</td></tr>\n",
       "</tbody>\n",
       "</table>\n"
      ],
      "text/latex": [
       "A tibble: 591 × 15\n",
       "\\begin{tabular}{lllllllllllllll}\n",
       " age & sex & cp & trestbps & chol & fbs & restecg & thalach & exang & oldpeak & slope & ca & thal & num & hd\\\\\n",
       " <dbl> & <dbl> & <dbl> & <dbl> & <dbl> & <dbl> & <dbl> & <dbl> & <dbl> & <dbl> & <dbl> & <dbl> & <dbl> & <dbl> & <fct>\\\\\n",
       "\\hline\n",
       "\t 49 & 0 & 3 & 160 & 180 & 0 & 0 & 156 & 0 & 1.0 & 2 & -9 & -9 & 1 & yes\\\\\n",
       "\t 48 & 0 & 4 & 138 & 214 & 0 & 0 & 108 & 1 & 1.5 & 2 & -9 & -9 & 3 & yes\\\\\n",
       "\t 37 & 1 & 4 & 140 & 207 & 0 & 0 & 130 & 1 & 1.5 & 2 & -9 & -9 & 1 & yes\\\\\n",
       "\t 58 & 1 & 2 & 136 & 164 & 0 & 1 &  99 & 1 & 2.0 & 2 & -9 & -9 & 3 & yes\\\\\n",
       "\t 49 & 1 & 4 & 140 & 234 & 0 & 0 & 140 & 1 & 1.0 & 2 & -9 & -9 & 3 & yes\\\\\n",
       "\t ⋮ & ⋮ & ⋮ & ⋮ & ⋮ & ⋮ & ⋮ & ⋮ & ⋮ & ⋮ & ⋮ & ⋮ & ⋮ & ⋮ & ⋮\\\\\n",
       "\t 35 & 1 & 2 & 122 & 192 & 0 & 0 & 174 & 0 & 0.0 & 1 & 0 & 3 & 0 & no\\\\\n",
       "\t 56 & 1 & 2 & 130 & 221 & 0 & 2 & 163 & 0 & 0.0 & 1 & 0 & 7 & 0 & no\\\\\n",
       "\t 56 & 1 & 2 & 120 & 240 & 0 & 0 & 169 & 0 & 0.0 & 3 & 0 & 3 & 0 & no\\\\\n",
       "\t 55 & 0 & 2 & 132 & 342 & 0 & 0 & 166 & 0 & 1.2 & 1 & 0 & 3 & 0 & no\\\\\n",
       "\t 41 & 1 & 2 & 120 & 157 & 0 & 0 & 182 & 0 & 0.0 & 1 & 0 & 3 & 0 & no\\\\\n",
       "\\end{tabular}\n"
      ],
      "text/markdown": [
       "\n",
       "A tibble: 591 × 15\n",
       "\n",
       "| age &lt;dbl&gt; | sex &lt;dbl&gt; | cp &lt;dbl&gt; | trestbps &lt;dbl&gt; | chol &lt;dbl&gt; | fbs &lt;dbl&gt; | restecg &lt;dbl&gt; | thalach &lt;dbl&gt; | exang &lt;dbl&gt; | oldpeak &lt;dbl&gt; | slope &lt;dbl&gt; | ca &lt;dbl&gt; | thal &lt;dbl&gt; | num &lt;dbl&gt; | hd &lt;fct&gt; |\n",
       "|---|---|---|---|---|---|---|---|---|---|---|---|---|---|---|\n",
       "| 49 | 0 | 3 | 160 | 180 | 0 | 0 | 156 | 0 | 1.0 | 2 | -9 | -9 | 1 | yes |\n",
       "| 48 | 0 | 4 | 138 | 214 | 0 | 0 | 108 | 1 | 1.5 | 2 | -9 | -9 | 3 | yes |\n",
       "| 37 | 1 | 4 | 140 | 207 | 0 | 0 | 130 | 1 | 1.5 | 2 | -9 | -9 | 1 | yes |\n",
       "| 58 | 1 | 2 | 136 | 164 | 0 | 1 |  99 | 1 | 2.0 | 2 | -9 | -9 | 3 | yes |\n",
       "| 49 | 1 | 4 | 140 | 234 | 0 | 0 | 140 | 1 | 1.0 | 2 | -9 | -9 | 3 | yes |\n",
       "| ⋮ | ⋮ | ⋮ | ⋮ | ⋮ | ⋮ | ⋮ | ⋮ | ⋮ | ⋮ | ⋮ | ⋮ | ⋮ | ⋮ | ⋮ |\n",
       "| 35 | 1 | 2 | 122 | 192 | 0 | 0 | 174 | 0 | 0.0 | 1 | 0 | 3 | 0 | no |\n",
       "| 56 | 1 | 2 | 130 | 221 | 0 | 2 | 163 | 0 | 0.0 | 1 | 0 | 7 | 0 | no |\n",
       "| 56 | 1 | 2 | 120 | 240 | 0 | 0 | 169 | 0 | 0.0 | 3 | 0 | 3 | 0 | no |\n",
       "| 55 | 0 | 2 | 132 | 342 | 0 | 0 | 166 | 0 | 1.2 | 1 | 0 | 3 | 0 | no |\n",
       "| 41 | 1 | 2 | 120 | 157 | 0 | 0 | 182 | 0 | 0.0 | 1 | 0 | 3 | 0 | no |\n",
       "\n"
      ],
      "text/plain": [
       "    age sex cp trestbps chol fbs restecg thalach exang oldpeak slope ca thal\n",
       "1   49  0   3  160      180  0   0       156     0     1.0     2     -9 -9  \n",
       "2   48  0   4  138      214  0   0       108     1     1.5     2     -9 -9  \n",
       "3   37  1   4  140      207  0   0       130     1     1.5     2     -9 -9  \n",
       "4   58  1   2  136      164  0   1        99     1     2.0     2     -9 -9  \n",
       "5   49  1   4  140      234  0   0       140     1     1.0     2     -9 -9  \n",
       "⋮   ⋮   ⋮   ⋮  ⋮        ⋮    ⋮   ⋮       ⋮       ⋮     ⋮       ⋮     ⋮  ⋮   \n",
       "587 35  1   2  122      192  0   0       174     0     0.0     1     0  3   \n",
       "588 56  1   2  130      221  0   2       163     0     0.0     1     0  7   \n",
       "589 56  1   2  120      240  0   0       169     0     0.0     3     0  3   \n",
       "590 55  0   2  132      342  0   0       166     0     1.2     1     0  3   \n",
       "591 41  1   2  120      157  0   0       182     0     0.0     1     0  3   \n",
       "    num hd \n",
       "1   1   yes\n",
       "2   3   yes\n",
       "3   1   yes\n",
       "4   3   yes\n",
       "5   3   yes\n",
       "⋮   ⋮   ⋮  \n",
       "587 0   no \n",
       "588 0   no \n",
       "589 0   no \n",
       "590 0   no \n",
       "591 0   no "
      ]
     },
     "metadata": {},
     "output_type": "display_data"
    }
   ],
   "source": [
    "heart_data <- rbind(hung_data_alt, cl_data_alt)\n",
    "heart_data"
   ]
  },
  {
   "cell_type": "code",
   "execution_count": 6,
   "id": "f0218884-32bd-442d-8ace-5184dc89a8fd",
   "metadata": {},
   "outputs": [
    {
     "data": {
      "text/html": [
       "<table class=\"dataframe\">\n",
       "<caption>A tibble: 2 × 3</caption>\n",
       "<thead>\n",
       "\t<tr><th scope=col>hd</th><th scope=col>count</th><th scope=col>percentage</th></tr>\n",
       "\t<tr><th scope=col>&lt;fct&gt;</th><th scope=col>&lt;int&gt;</th><th scope=col>&lt;dbl&gt;</th></tr>\n",
       "</thead>\n",
       "<tbody>\n",
       "\t<tr><td>yes</td><td>243</td><td>41.11675</td></tr>\n",
       "\t<tr><td>no </td><td>348</td><td>58.88325</td></tr>\n",
       "</tbody>\n",
       "</table>\n"
      ],
      "text/latex": [
       "A tibble: 2 × 3\n",
       "\\begin{tabular}{lll}\n",
       " hd & count & percentage\\\\\n",
       " <fct> & <int> & <dbl>\\\\\n",
       "\\hline\n",
       "\t yes & 243 & 41.11675\\\\\n",
       "\t no  & 348 & 58.88325\\\\\n",
       "\\end{tabular}\n"
      ],
      "text/markdown": [
       "\n",
       "A tibble: 2 × 3\n",
       "\n",
       "| hd &lt;fct&gt; | count &lt;int&gt; | percentage &lt;dbl&gt; |\n",
       "|---|---|---|\n",
       "| yes | 243 | 41.11675 |\n",
       "| no  | 348 | 58.88325 |\n",
       "\n"
      ],
      "text/plain": [
       "  hd  count percentage\n",
       "1 yes 243   41.11675  \n",
       "2 no  348   58.88325  "
      ]
     },
     "metadata": {},
     "output_type": "display_data"
    }
   ],
   "source": [
    "# Percentages of hd (yes, no) \n",
    "\n",
    "num_obs_h <- nrow(heart_data)\n",
    "heart_proportions <- heart_data |>\n",
    "    group_by(hd) |>\n",
    "    summarize(\n",
    "        count = n(),\n",
    "        percentage = n() / num_obs_h * 100\n",
    "        )\n",
    "heart_proportions"
   ]
  },
  {
   "cell_type": "code",
   "execution_count": 8,
   "id": "9f6c8f2a-4ffd-4b1e-ab79-e58ad5ddd19f",
   "metadata": {},
   "outputs": [],
   "source": [
    "# Creating Training and Testing Data Sets\n",
    "\n",
    "heart_split <- initial_split(heart_data, prop = 0.75, strata = hd)\n",
    "heart_training <- training(heart_split)\n",
    "heart_testing <- testing(heart_split)"
   ]
  },
  {
   "cell_type": "markdown",
   "id": "d231e117-73ae-4632-9f49-1e0fb37f68d6",
   "metadata": {},
   "source": [
    "**Finding the Best Predictors using Forward Selection From Textbook**"
   ]
  },
  {
   "cell_type": "markdown",
   "id": "72098baf-9c92-492a-af93-28f218f6d0b7",
   "metadata": {},
   "source": [
    "Warning: Code takes 8-9 min. to run"
   ]
  },
  {
   "cell_type": "code",
   "execution_count": 9,
   "id": "af155fa9-a2f9-48f5-afd4-fd1dc11d207d",
   "metadata": {},
   "outputs": [
    {
     "data": {
      "text/html": [
       "<table class=\"dataframe\">\n",
       "<caption>A tibble: 13 × 3</caption>\n",
       "<thead>\n",
       "\t<tr><th scope=col>size</th><th scope=col>model_string</th><th scope=col>accuracy</th></tr>\n",
       "\t<tr><th scope=col>&lt;int&gt;</th><th scope=col>&lt;chr&gt;</th><th scope=col>&lt;dbl&gt;</th></tr>\n",
       "</thead>\n",
       "<tbody>\n",
       "\t<tr><td>1</td><td>hd ~ oldpeak                   </td><td>0.7020531</td></tr>\n",
       "\t<tr><td>2</td><td>hd ~ oldpeak+cp                </td><td>0.8011667</td></tr>\n",
       "\t<tr><td>3</td><td>hd ~ oldpeak+cp+restecg        </td><td>0.8238174</td></tr>\n",
       "\t<tr><td>4</td><td>hd ~ oldpeak+cp+restecg+fbs    </td><td>0.8193735</td></tr>\n",
       "\t<tr><td>5</td><td>hd ~ oldpeak+cp+restecg+fbs+sex</td><td>0.8194252</td></tr>\n",
       "\t<tr><td>⋮</td><td>⋮</td><td>⋮</td></tr>\n",
       "\t<tr><td> 9</td><td>hd ~ oldpeak+cp+restecg+fbs+sex+trestbps+ca+thal+age                         </td><td>0.8128606</td></tr>\n",
       "\t<tr><td>10</td><td>hd ~ oldpeak+cp+restecg+fbs+sex+trestbps+ca+thal+age+exang                   </td><td>0.8060158</td></tr>\n",
       "\t<tr><td>11</td><td>hd ~ oldpeak+cp+restecg+fbs+sex+trestbps+ca+thal+age+exang+slope             </td><td>0.8172018</td></tr>\n",
       "\t<tr><td>12</td><td>hd ~ oldpeak+cp+restecg+fbs+sex+trestbps+ca+thal+age+exang+slope+thalach     </td><td>0.8125814</td></tr>\n",
       "\t<tr><td>13</td><td>hd ~ oldpeak+cp+restecg+fbs+sex+trestbps+ca+thal+age+exang+slope+thalach+chol</td><td>0.8058654</td></tr>\n",
       "</tbody>\n",
       "</table>\n"
      ],
      "text/latex": [
       "A tibble: 13 × 3\n",
       "\\begin{tabular}{lll}\n",
       " size & model\\_string & accuracy\\\\\n",
       " <int> & <chr> & <dbl>\\\\\n",
       "\\hline\n",
       "\t 1 & hd \\textasciitilde{} oldpeak                    & 0.7020531\\\\\n",
       "\t 2 & hd \\textasciitilde{} oldpeak+cp                 & 0.8011667\\\\\n",
       "\t 3 & hd \\textasciitilde{} oldpeak+cp+restecg         & 0.8238174\\\\\n",
       "\t 4 & hd \\textasciitilde{} oldpeak+cp+restecg+fbs     & 0.8193735\\\\\n",
       "\t 5 & hd \\textasciitilde{} oldpeak+cp+restecg+fbs+sex & 0.8194252\\\\\n",
       "\t ⋮ & ⋮ & ⋮\\\\\n",
       "\t  9 & hd \\textasciitilde{} oldpeak+cp+restecg+fbs+sex+trestbps+ca+thal+age                          & 0.8128606\\\\\n",
       "\t 10 & hd \\textasciitilde{} oldpeak+cp+restecg+fbs+sex+trestbps+ca+thal+age+exang                    & 0.8060158\\\\\n",
       "\t 11 & hd \\textasciitilde{} oldpeak+cp+restecg+fbs+sex+trestbps+ca+thal+age+exang+slope              & 0.8172018\\\\\n",
       "\t 12 & hd \\textasciitilde{} oldpeak+cp+restecg+fbs+sex+trestbps+ca+thal+age+exang+slope+thalach      & 0.8125814\\\\\n",
       "\t 13 & hd \\textasciitilde{} oldpeak+cp+restecg+fbs+sex+trestbps+ca+thal+age+exang+slope+thalach+chol & 0.8058654\\\\\n",
       "\\end{tabular}\n"
      ],
      "text/markdown": [
       "\n",
       "A tibble: 13 × 3\n",
       "\n",
       "| size &lt;int&gt; | model_string &lt;chr&gt; | accuracy &lt;dbl&gt; |\n",
       "|---|---|---|\n",
       "| 1 | hd ~ oldpeak                    | 0.7020531 |\n",
       "| 2 | hd ~ oldpeak+cp                 | 0.8011667 |\n",
       "| 3 | hd ~ oldpeak+cp+restecg         | 0.8238174 |\n",
       "| 4 | hd ~ oldpeak+cp+restecg+fbs     | 0.8193735 |\n",
       "| 5 | hd ~ oldpeak+cp+restecg+fbs+sex | 0.8194252 |\n",
       "| ⋮ | ⋮ | ⋮ |\n",
       "|  9 | hd ~ oldpeak+cp+restecg+fbs+sex+trestbps+ca+thal+age                          | 0.8128606 |\n",
       "| 10 | hd ~ oldpeak+cp+restecg+fbs+sex+trestbps+ca+thal+age+exang                    | 0.8060158 |\n",
       "| 11 | hd ~ oldpeak+cp+restecg+fbs+sex+trestbps+ca+thal+age+exang+slope              | 0.8172018 |\n",
       "| 12 | hd ~ oldpeak+cp+restecg+fbs+sex+trestbps+ca+thal+age+exang+slope+thalach      | 0.8125814 |\n",
       "| 13 | hd ~ oldpeak+cp+restecg+fbs+sex+trestbps+ca+thal+age+exang+slope+thalach+chol | 0.8058654 |\n",
       "\n"
      ],
      "text/plain": [
       "   size\n",
       "1  1   \n",
       "2  2   \n",
       "3  3   \n",
       "4  4   \n",
       "5  5   \n",
       "⋮  ⋮   \n",
       "9   9  \n",
       "10 10  \n",
       "11 11  \n",
       "12 12  \n",
       "13 13  \n",
       "   model_string                                                                 \n",
       "1  hd ~ oldpeak                                                                 \n",
       "2  hd ~ oldpeak+cp                                                              \n",
       "3  hd ~ oldpeak+cp+restecg                                                      \n",
       "4  hd ~ oldpeak+cp+restecg+fbs                                                  \n",
       "5  hd ~ oldpeak+cp+restecg+fbs+sex                                              \n",
       "⋮  ⋮                                                                            \n",
       "9  hd ~ oldpeak+cp+restecg+fbs+sex+trestbps+ca+thal+age                         \n",
       "10 hd ~ oldpeak+cp+restecg+fbs+sex+trestbps+ca+thal+age+exang                   \n",
       "11 hd ~ oldpeak+cp+restecg+fbs+sex+trestbps+ca+thal+age+exang+slope             \n",
       "12 hd ~ oldpeak+cp+restecg+fbs+sex+trestbps+ca+thal+age+exang+slope+thalach     \n",
       "13 hd ~ oldpeak+cp+restecg+fbs+sex+trestbps+ca+thal+age+exang+slope+thalach+chol\n",
       "   accuracy \n",
       "1  0.7020531\n",
       "2  0.8011667\n",
       "3  0.8238174\n",
       "4  0.8193735\n",
       "5  0.8194252\n",
       "⋮  ⋮        \n",
       "9  0.8128606\n",
       "10 0.8060158\n",
       "11 0.8172018\n",
       "12 0.8125814\n",
       "13 0.8058654"
      ]
     },
     "metadata": {},
     "output_type": "display_data"
    }
   ],
   "source": [
    "# Created a duplicate set to perform Forward Selection\n",
    "# Standardized this new subset\n",
    "\n",
    "heart_subset <- heart_training |> select(-num)\n",
    "\n",
    "# Implementing Forward Selection Code to find best predictors\n",
    "names <- colnames(heart_subset |> select(-hd))\n",
    "\n",
    "# Create a tibble to store accuracies\n",
    "accuracies <- tibble(size = integer(), \n",
    "                     model_string = character(), \n",
    "                     accuracy = numeric())\n",
    "\n",
    "# Create a model spec\n",
    "knn_FS_spec <- nearest_neighbor(weight_func = \"rectangular\",\n",
    "                             neighbors = tune()) |>\n",
    "    set_engine(\"kknn\") |>\n",
    "    set_mode(\"classification\")\n",
    "\n",
    "# Create a 5-fold cross-validation object\n",
    "heart_vfold <- vfold_cv(heart_subset, v = 5, strata = hd)\n",
    "\n",
    "# Store the total number of predictors\n",
    "n_total <- length(names)\n",
    "\n",
    "# Stores selected predictors\n",
    "selected <- c()\n",
    "for (i in 1:n_total) {\n",
    "    accs <- list()\n",
    "    models <- list()\n",
    "    for (j in 1:length(names)) {\n",
    "        preds_new <- c(selected, names[[j]])\n",
    "        model_string <- paste(\"hd\", \"~\", paste(preds_new, collapse=\"+\"))\n",
    "        heart_FS_recipe <- recipe(as.formula(model_string),\n",
    "                                data = heart_subset) |>\n",
    "                            step_scale(all_predictors()) |>\n",
    "                            step_center(all_predictors())\n",
    "        acc <- workflow() |>\n",
    "            add_recipe(heart_FS_recipe) |>\n",
    "            add_model(knn_FS_spec) |>\n",
    "            tune_grid(resamples = heart_vfold, grid = 10) |>\n",
    "            collect_metrics() |>\n",
    "            filter(.metric == \"accuracy\") |>\n",
    "            summarize(mx = max(mean))\n",
    "        acc <- acc$mx |> unlist()\n",
    "        accs[[j]] <- acc\n",
    "        models[[j]] <- model_string\n",
    "    }\n",
    "    jstar <- which.max(unlist(accs))\n",
    "    accuracies <- accuracies |>\n",
    "        add_row(size = i,\n",
    "                model_string = models[[jstar]],\n",
    "                accuracy = accs[[jstar]])\n",
    "    selected <- c(selected, names[[jstar]])\n",
    "    names <- names[-jstar]\n",
    "}\n",
    "accuracies"
   ]
  },
  {
   "cell_type": "code",
   "execution_count": 10,
   "id": "615aa344-0d8d-42eb-a076-2213acfcd4bb",
   "metadata": {},
   "outputs": [
    {
     "data": {
      "image/png": "[encoded data removed]",
      "text/plain": [
       "plot without title"
      ]
     },
     "metadata": {
      "image/png": {
       "height": 420,
       "width": 420
      }
     },
     "output_type": "display_data"
    }
   ],
   "source": [
    "best_preds_plot <- ggplot(accuracies, aes(x = size, y = accuracy)) +\n",
    "    geom_line() +\n",
    "    xlab(\"Number of Predictors\") +\n",
    "    ylab(\"Estimated Accuracy\") +\n",
    "    scale_x_continuous(breaks = 1:13) +\n",
    "    theme(text = element_text(size = 15))\n",
    "\n",
    "best_preds_plot"
   ]
  },
  {
   "cell_type": "code",
   "execution_count": 11,
   "id": "c390196b-63f3-47dc-8fc6-371e200496b1",
   "metadata": {},
   "outputs": [
    {
     "data": {
      "text/html": [
       "<table class=\"dataframe\">\n",
       "<caption>A tibble: 2 × 3</caption>\n",
       "<thead>\n",
       "\t<tr><th scope=col>size</th><th scope=col>model_string</th><th scope=col>accuracy</th></tr>\n",
       "\t<tr><th scope=col>&lt;int&gt;</th><th scope=col>&lt;chr&gt;</th><th scope=col>&lt;dbl&gt;</th></tr>\n",
       "</thead>\n",
       "<tbody>\n",
       "\t<tr><td>4</td><td>hd ~ oldpeak+cp+restecg+fbs                </td><td>0.8193735</td></tr>\n",
       "\t<tr><td>7</td><td>hd ~ oldpeak+cp+restecg+fbs+sex+trestbps+ca</td><td>0.8104858</td></tr>\n",
       "</tbody>\n",
       "</table>\n"
      ],
      "text/latex": [
       "A tibble: 2 × 3\n",
       "\\begin{tabular}{lll}\n",
       " size & model\\_string & accuracy\\\\\n",
       " <int> & <chr> & <dbl>\\\\\n",
       "\\hline\n",
       "\t 4 & hd \\textasciitilde{} oldpeak+cp+restecg+fbs                 & 0.8193735\\\\\n",
       "\t 7 & hd \\textasciitilde{} oldpeak+cp+restecg+fbs+sex+trestbps+ca & 0.8104858\\\\\n",
       "\\end{tabular}\n"
      ],
      "text/markdown": [
       "\n",
       "A tibble: 2 × 3\n",
       "\n",
       "| size &lt;int&gt; | model_string &lt;chr&gt; | accuracy &lt;dbl&gt; |\n",
       "|---|---|---|\n",
       "| 4 | hd ~ oldpeak+cp+restecg+fbs                 | 0.8193735 |\n",
       "| 7 | hd ~ oldpeak+cp+restecg+fbs+sex+trestbps+ca | 0.8104858 |\n",
       "\n"
      ],
      "text/plain": [
       "  size model_string                                accuracy \n",
       "1 4    hd ~ oldpeak+cp+restecg+fbs                 0.8193735\n",
       "2 7    hd ~ oldpeak+cp+restecg+fbs+sex+trestbps+ca 0.8104858"
      ]
     },
     "metadata": {},
     "output_type": "display_data"
    }
   ],
   "source": [
    "best_preds <- accuracies |> slice(4,7)\n",
    "best_preds"
   ]
  },
  {
   "cell_type": "markdown",
   "id": "72b62be0-e5b3-4c21-98f7-d0a97ba15849",
   "metadata": {},
   "source": [
    "Using 4 and 7 predictors produce a similar accuracy, with 4 being slightly better. Thus, the best predictors are \"oldpeak\", \"cp\", \"thal\", and \"slope\"."
   ]
  },
  {
   "cell_type": "code",
   "execution_count": 12,
   "id": "9645e17c-a90d-46fd-b788-06764f72e6f3",
   "metadata": {},
   "outputs": [
    {
     "data": {
      "text/html": [
       "<table class=\"dataframe\">\n",
       "<caption>A tibble: 100 × 7</caption>\n",
       "<thead>\n",
       "\t<tr><th scope=col>neighbors</th><th scope=col>.metric</th><th scope=col>.estimator</th><th scope=col>mean</th><th scope=col>n</th><th scope=col>std_err</th><th scope=col>.config</th></tr>\n",
       "\t<tr><th scope=col>&lt;int&gt;</th><th scope=col>&lt;chr&gt;</th><th scope=col>&lt;chr&gt;</th><th scope=col>&lt;dbl&gt;</th><th scope=col>&lt;int&gt;</th><th scope=col>&lt;dbl&gt;</th><th scope=col>&lt;chr&gt;</th></tr>\n",
       "</thead>\n",
       "<tbody>\n",
       "\t<tr><td>1</td><td>accuracy</td><td>binary</td><td>0.7470993</td><td>10</td><td>0.01724606</td><td>Preprocessor1_Model01</td></tr>\n",
       "\t<tr><td>1</td><td>roc_auc </td><td>binary</td><td>0.7180874</td><td>10</td><td>0.01905491</td><td>Preprocessor1_Model01</td></tr>\n",
       "\t<tr><td>2</td><td>accuracy</td><td>binary</td><td>0.7380083</td><td>10</td><td>0.01747400</td><td>Preprocessor1_Model02</td></tr>\n",
       "\t<tr><td>2</td><td>roc_auc </td><td>binary</td><td>0.7816783</td><td>10</td><td>0.01738646</td><td>Preprocessor1_Model02</td></tr>\n",
       "\t<tr><td>3</td><td>accuracy</td><td>binary</td><td>0.7764471</td><td>10</td><td>0.01488295</td><td>Preprocessor1_Model03</td></tr>\n",
       "\t<tr><td>⋮</td><td>⋮</td><td>⋮</td><td>⋮</td><td>⋮</td><td>⋮</td><td>⋮</td></tr>\n",
       "\t<tr><td>48</td><td>roc_auc </td><td>binary</td><td>0.8697106</td><td>10</td><td>0.02017927</td><td>Preprocessor1_Model48</td></tr>\n",
       "\t<tr><td>49</td><td>accuracy</td><td>binary</td><td>0.7922069</td><td>10</td><td>0.02082671</td><td>Preprocessor1_Model49</td></tr>\n",
       "\t<tr><td>49</td><td>roc_auc </td><td>binary</td><td>0.8698343</td><td>10</td><td>0.02081452</td><td>Preprocessor1_Model49</td></tr>\n",
       "\t<tr><td>50</td><td>accuracy</td><td>binary</td><td>0.7922069</td><td>10</td><td>0.02082671</td><td>Preprocessor1_Model50</td></tr>\n",
       "\t<tr><td>50</td><td>roc_auc </td><td>binary</td><td>0.8687116</td><td>10</td><td>0.02125682</td><td>Preprocessor1_Model50</td></tr>\n",
       "</tbody>\n",
       "</table>\n"
      ],
      "text/latex": [
       "A tibble: 100 × 7\n",
       "\\begin{tabular}{lllllll}\n",
       " neighbors & .metric & .estimator & mean & n & std\\_err & .config\\\\\n",
       " <int> & <chr> & <chr> & <dbl> & <int> & <dbl> & <chr>\\\\\n",
       "\\hline\n",
       "\t 1 & accuracy & binary & 0.7470993 & 10 & 0.01724606 & Preprocessor1\\_Model01\\\\\n",
       "\t 1 & roc\\_auc  & binary & 0.7180874 & 10 & 0.01905491 & Preprocessor1\\_Model01\\\\\n",
       "\t 2 & accuracy & binary & 0.7380083 & 10 & 0.01747400 & Preprocessor1\\_Model02\\\\\n",
       "\t 2 & roc\\_auc  & binary & 0.7816783 & 10 & 0.01738646 & Preprocessor1\\_Model02\\\\\n",
       "\t 3 & accuracy & binary & 0.7764471 & 10 & 0.01488295 & Preprocessor1\\_Model03\\\\\n",
       "\t ⋮ & ⋮ & ⋮ & ⋮ & ⋮ & ⋮ & ⋮\\\\\n",
       "\t 48 & roc\\_auc  & binary & 0.8697106 & 10 & 0.02017927 & Preprocessor1\\_Model48\\\\\n",
       "\t 49 & accuracy & binary & 0.7922069 & 10 & 0.02082671 & Preprocessor1\\_Model49\\\\\n",
       "\t 49 & roc\\_auc  & binary & 0.8698343 & 10 & 0.02081452 & Preprocessor1\\_Model49\\\\\n",
       "\t 50 & accuracy & binary & 0.7922069 & 10 & 0.02082671 & Preprocessor1\\_Model50\\\\\n",
       "\t 50 & roc\\_auc  & binary & 0.8687116 & 10 & 0.02125682 & Preprocessor1\\_Model50\\\\\n",
       "\\end{tabular}\n"
      ],
      "text/markdown": [
       "\n",
       "A tibble: 100 × 7\n",
       "\n",
       "| neighbors &lt;int&gt; | .metric &lt;chr&gt; | .estimator &lt;chr&gt; | mean &lt;dbl&gt; | n &lt;int&gt; | std_err &lt;dbl&gt; | .config &lt;chr&gt; |\n",
       "|---|---|---|---|---|---|---|\n",
       "| 1 | accuracy | binary | 0.7470993 | 10 | 0.01724606 | Preprocessor1_Model01 |\n",
       "| 1 | roc_auc  | binary | 0.7180874 | 10 | 0.01905491 | Preprocessor1_Model01 |\n",
       "| 2 | accuracy | binary | 0.7380083 | 10 | 0.01747400 | Preprocessor1_Model02 |\n",
       "| 2 | roc_auc  | binary | 0.7816783 | 10 | 0.01738646 | Preprocessor1_Model02 |\n",
       "| 3 | accuracy | binary | 0.7764471 | 10 | 0.01488295 | Preprocessor1_Model03 |\n",
       "| ⋮ | ⋮ | ⋮ | ⋮ | ⋮ | ⋮ | ⋮ |\n",
       "| 48 | roc_auc  | binary | 0.8697106 | 10 | 0.02017927 | Preprocessor1_Model48 |\n",
       "| 49 | accuracy | binary | 0.7922069 | 10 | 0.02082671 | Preprocessor1_Model49 |\n",
       "| 49 | roc_auc  | binary | 0.8698343 | 10 | 0.02081452 | Preprocessor1_Model49 |\n",
       "| 50 | accuracy | binary | 0.7922069 | 10 | 0.02082671 | Preprocessor1_Model50 |\n",
       "| 50 | roc_auc  | binary | 0.8687116 | 10 | 0.02125682 | Preprocessor1_Model50 |\n",
       "\n"
      ],
      "text/plain": [
       "    neighbors .metric  .estimator mean      n  std_err    .config              \n",
       "1   1         accuracy binary     0.7470993 10 0.01724606 Preprocessor1_Model01\n",
       "2   1         roc_auc  binary     0.7180874 10 0.01905491 Preprocessor1_Model01\n",
       "3   2         accuracy binary     0.7380083 10 0.01747400 Preprocessor1_Model02\n",
       "4   2         roc_auc  binary     0.7816783 10 0.01738646 Preprocessor1_Model02\n",
       "5   3         accuracy binary     0.7764471 10 0.01488295 Preprocessor1_Model03\n",
       "⋮   ⋮         ⋮        ⋮          ⋮         ⋮  ⋮          ⋮                    \n",
       "96  48        roc_auc  binary     0.8697106 10 0.02017927 Preprocessor1_Model48\n",
       "97  49        accuracy binary     0.7922069 10 0.02082671 Preprocessor1_Model49\n",
       "98  49        roc_auc  binary     0.8698343 10 0.02081452 Preprocessor1_Model49\n",
       "99  50        accuracy binary     0.7922069 10 0.02082671 Preprocessor1_Model50\n",
       "100 50        roc_auc  binary     0.8687116 10 0.02125682 Preprocessor1_Model50"
      ]
     },
     "metadata": {},
     "output_type": "display_data"
    },
    {
     "data": {
      "image/png": "[encoded data removed]",
      "text/plain": [
       "plot without title"
      ]
     },
     "metadata": {
      "image/png": {
       "height": 420,
       "width": 420
      }
     },
     "output_type": "display_data"
    }
   ],
   "source": [
    "# Creating a 10-fold cross-validation object\n",
    "heart_vfold <- vfold_cv(heart_training, v = 10, strata = hd)\n",
    "\n",
    "# Preparing the recipe according to the best predictors as found above\n",
    "heart_recipe <- recipe(hd ~ oldpeak + cp + thal + slope, data = heart_training) |>\n",
    "                  step_scale(all_predictors()) |>\n",
    "                  step_center(all_predictors())\n",
    "\n",
    "# K-nn Classification spec\n",
    "knn_spec <- nearest_neighbor(weight_func = \"rectangular\", neighbors = tune()) |>\n",
    "              set_engine(\"kknn\") |>\n",
    "              set_mode(\"classification\")\n",
    "\n",
    "# Setting possible values of best K to be in between 1 and 50\n",
    "gridvals <- tibble(neighbors = seq(1, 50))\n",
    "\n",
    "# Combining everything into a workflow and collecting the metrics to identify the best value of K\n",
    "knn_results <- workflow() |>\n",
    "                  add_recipe(heart_recipe) |>\n",
    "                  add_model(knn_spec) |>\n",
    "                  tune_grid(resamples = heart_vfold, grid = gridvals) |>\n",
    "                  collect_metrics()\n",
    "\n",
    "knn_results\n",
    "\n",
    "accuracies <- knn_results |>\n",
    "  filter(.metric == \"accuracy\")\n",
    "\n",
    "# Creating a cross-validation plot to visualise accuracies for the different values of K\n",
    "cross_val_plot <- accuracies |> \n",
    "                    ggplot(aes(x = neighbors, y = mean)) +\n",
    "                    geom_point() +\n",
    "                    geom_line() +\n",
    "                    labs(x = \"Neighbors\", y = \"Accuracy Estimate\") +\n",
    "                    theme(text = element_text(size = 20))\n",
    "\n",
    "cross_val_plot"
   ]
  },
  {
   "cell_type": "code",
   "execution_count": 13,
   "id": "e606d810-92c7-49da-a0c7-6fc0f23fa158",
   "metadata": {},
   "outputs": [
    {
     "data": {
      "text/html": [
       "<table class=\"dataframe\">\n",
       "<caption>A tibble: 1 × 3</caption>\n",
       "<thead>\n",
       "\t<tr><th scope=col>neighbors</th><th scope=col>mean</th><th scope=col>std_err</th></tr>\n",
       "\t<tr><th scope=col>&lt;int&gt;</th><th scope=col>&lt;dbl&gt;</th><th scope=col>&lt;dbl&gt;</th></tr>\n",
       "</thead>\n",
       "<tbody>\n",
       "\t<tr><td>26</td><td>0.8124594</td><td>0.01810257</td></tr>\n",
       "</tbody>\n",
       "</table>\n"
      ],
      "text/latex": [
       "A tibble: 1 × 3\n",
       "\\begin{tabular}{lll}\n",
       " neighbors & mean & std\\_err\\\\\n",
       " <int> & <dbl> & <dbl>\\\\\n",
       "\\hline\n",
       "\t 26 & 0.8124594 & 0.01810257\\\\\n",
       "\\end{tabular}\n"
      ],
      "text/markdown": [
       "\n",
       "A tibble: 1 × 3\n",
       "\n",
       "| neighbors &lt;int&gt; | mean &lt;dbl&gt; | std_err &lt;dbl&gt; |\n",
       "|---|---|---|\n",
       "| 26 | 0.8124594 | 0.01810257 |\n",
       "\n"
      ],
      "text/plain": [
       "  neighbors mean      std_err   \n",
       "1 26        0.8124594 0.01810257"
      ]
     },
     "metadata": {},
     "output_type": "display_data"
    }
   ],
   "source": [
    "# Choosing the best value of K\n",
    "conclusions <- knn_results |>\n",
    "                filter(.metric == \"accuracy\") |>\n",
    "                select(neighbors, mean, std_err) |>\n",
    "                arrange(mean) |>\n",
    "                tail(1)\n",
    "\n",
    "conclusions"
   ]
  },
  {
   "cell_type": "markdown",
   "id": "44151275-43e0-496b-a593-e8c0dea7ebee",
   "metadata": {},
   "source": [
    "**From the above conclusions, we can see that the best value for K to be used is 24.**"
   ]
  },
  {
   "cell_type": "code",
   "execution_count": 14,
   "id": "d1e5b1a8-a1e2-4fee-a7cd-a4de88e53373",
   "metadata": {},
   "outputs": [
    {
     "data": {
      "text/plain": [
       "══ Workflow [trained] ══════════════════════════════════════════════════════════\n",
       "\u001b[3mPreprocessor:\u001b[23m Recipe\n",
       "\u001b[3mModel:\u001b[23m nearest_neighbor()\n",
       "\n",
       "── Preprocessor ────────────────────────────────────────────────────────────────\n",
       "2 Recipe Steps\n",
       "\n",
       "• step_scale()\n",
       "• step_center()\n",
       "\n",
       "── Model ───────────────────────────────────────────────────────────────────────\n",
       "\n",
       "Call:\n",
       "kknn::train.kknn(formula = ..y ~ ., data = data, ks = min_rows(24,     data, 5), kernel = ~\"rectangular\")\n",
       "\n",
       "Type of response variable: nominal\n",
       "Minimal misclassification: 0.1896163\n",
       "Best kernel: rectangular\n",
       "Best k: 24"
      ]
     },
     "metadata": {},
     "output_type": "display_data"
    }
   ],
   "source": [
    "#Retraining the classifer \n",
    "knn_spec <- nearest_neighbor(weight_func = \"rectangular\", neighbors = 24) |>\n",
    "    set_engine(\"kknn\") |>\n",
    "    set_mode(\"classification\")\n",
    "\n",
    "knn_fit <- workflow() |>\n",
    "    add_recipe(heart_recipe) |>\n",
    "    add_model(knn_spec) |>\n",
    "    fit(data = heart_training)\n",
    "knn_fit"
   ]
  },
  {
   "cell_type": "code",
   "execution_count": 16,
   "id": "e6f91f2a-1dd3-4b8f-aea9-60aaa0d419d8",
   "metadata": {},
   "outputs": [
    {
     "data": {
      "text/html": [
       "<table class=\"dataframe\">\n",
       "<caption>A tibble: 148 × 16</caption>\n",
       "<thead>\n",
       "\t<tr><th scope=col>.pred_class</th><th scope=col>age</th><th scope=col>sex</th><th scope=col>cp</th><th scope=col>trestbps</th><th scope=col>chol</th><th scope=col>fbs</th><th scope=col>restecg</th><th scope=col>thalach</th><th scope=col>exang</th><th scope=col>oldpeak</th><th scope=col>slope</th><th scope=col>ca</th><th scope=col>thal</th><th scope=col>num</th><th scope=col>hd</th></tr>\n",
       "\t<tr><th scope=col>&lt;fct&gt;</th><th scope=col>&lt;dbl&gt;</th><th scope=col>&lt;dbl&gt;</th><th scope=col>&lt;dbl&gt;</th><th scope=col>&lt;dbl&gt;</th><th scope=col>&lt;dbl&gt;</th><th scope=col>&lt;dbl&gt;</th><th scope=col>&lt;dbl&gt;</th><th scope=col>&lt;dbl&gt;</th><th scope=col>&lt;dbl&gt;</th><th scope=col>&lt;dbl&gt;</th><th scope=col>&lt;dbl&gt;</th><th scope=col>&lt;dbl&gt;</th><th scope=col>&lt;dbl&gt;</th><th scope=col>&lt;dbl&gt;</th><th scope=col>&lt;fct&gt;</th></tr>\n",
       "</thead>\n",
       "<tbody>\n",
       "\t<tr><td>yes</td><td>49</td><td>0</td><td>3</td><td>160</td><td>180</td><td>0</td><td>0</td><td>156</td><td>0</td><td>1</td><td> 2</td><td>-9</td><td>-9</td><td>1</td><td>yes</td></tr>\n",
       "\t<tr><td>no </td><td>58</td><td>1</td><td>2</td><td>136</td><td>164</td><td>0</td><td>1</td><td> 99</td><td>1</td><td>2</td><td> 2</td><td>-9</td><td>-9</td><td>3</td><td>yes</td></tr>\n",
       "\t<tr><td>yes</td><td>60</td><td>1</td><td>4</td><td>100</td><td>248</td><td>0</td><td>0</td><td>125</td><td>0</td><td>1</td><td> 2</td><td>-9</td><td>-9</td><td>1</td><td>yes</td></tr>\n",
       "\t<tr><td>yes</td><td>44</td><td>1</td><td>2</td><td>150</td><td>288</td><td>0</td><td>0</td><td>150</td><td>1</td><td>3</td><td> 2</td><td>-9</td><td>-9</td><td>3</td><td>yes</td></tr>\n",
       "\t<tr><td>no </td><td>53</td><td>1</td><td>3</td><td>145</td><td>518</td><td>0</td><td>0</td><td>130</td><td>0</td><td>0</td><td>-9</td><td>-9</td><td>-9</td><td>3</td><td>yes</td></tr>\n",
       "\t<tr><td>⋮</td><td>⋮</td><td>⋮</td><td>⋮</td><td>⋮</td><td>⋮</td><td>⋮</td><td>⋮</td><td>⋮</td><td>⋮</td><td>⋮</td><td>⋮</td><td>⋮</td><td>⋮</td><td>⋮</td><td>⋮</td></tr>\n",
       "\t<tr><td>no</td><td>44</td><td>0</td><td>3</td><td>118</td><td>242</td><td>0</td><td>0</td><td>149</td><td>0</td><td>0.3</td><td>2</td><td>1</td><td>3</td><td>0</td><td>no</td></tr>\n",
       "\t<tr><td>no</td><td>60</td><td>0</td><td>1</td><td>150</td><td>240</td><td>0</td><td>0</td><td>171</td><td>0</td><td>0.9</td><td>1</td><td>0</td><td>3</td><td>0</td><td>no</td></tr>\n",
       "\t<tr><td>no</td><td>44</td><td>1</td><td>3</td><td>120</td><td>226</td><td>0</td><td>0</td><td>169</td><td>0</td><td>0.0</td><td>1</td><td>0</td><td>3</td><td>0</td><td>no</td></tr>\n",
       "\t<tr><td>no</td><td>39</td><td>0</td><td>3</td><td>138</td><td>220</td><td>0</td><td>0</td><td>152</td><td>0</td><td>0.0</td><td>2</td><td>0</td><td>3</td><td>0</td><td>no</td></tr>\n",
       "\t<tr><td>no</td><td>55</td><td>0</td><td>2</td><td>132</td><td>342</td><td>0</td><td>0</td><td>166</td><td>0</td><td>1.2</td><td>1</td><td>0</td><td>3</td><td>0</td><td>no</td></tr>\n",
       "</tbody>\n",
       "</table>\n"
      ],
      "text/latex": [
       "A tibble: 148 × 16\n",
       "\\begin{tabular}{llllllllllllllll}\n",
       " .pred\\_class & age & sex & cp & trestbps & chol & fbs & restecg & thalach & exang & oldpeak & slope & ca & thal & num & hd\\\\\n",
       " <fct> & <dbl> & <dbl> & <dbl> & <dbl> & <dbl> & <dbl> & <dbl> & <dbl> & <dbl> & <dbl> & <dbl> & <dbl> & <dbl> & <dbl> & <fct>\\\\\n",
       "\\hline\n",
       "\t yes & 49 & 0 & 3 & 160 & 180 & 0 & 0 & 156 & 0 & 1 &  2 & -9 & -9 & 1 & yes\\\\\n",
       "\t no  & 58 & 1 & 2 & 136 & 164 & 0 & 1 &  99 & 1 & 2 &  2 & -9 & -9 & 3 & yes\\\\\n",
       "\t yes & 60 & 1 & 4 & 100 & 248 & 0 & 0 & 125 & 0 & 1 &  2 & -9 & -9 & 1 & yes\\\\\n",
       "\t yes & 44 & 1 & 2 & 150 & 288 & 0 & 0 & 150 & 1 & 3 &  2 & -9 & -9 & 3 & yes\\\\\n",
       "\t no  & 53 & 1 & 3 & 145 & 518 & 0 & 0 & 130 & 0 & 0 & -9 & -9 & -9 & 3 & yes\\\\\n",
       "\t ⋮ & ⋮ & ⋮ & ⋮ & ⋮ & ⋮ & ⋮ & ⋮ & ⋮ & ⋮ & ⋮ & ⋮ & ⋮ & ⋮ & ⋮ & ⋮\\\\\n",
       "\t no & 44 & 0 & 3 & 118 & 242 & 0 & 0 & 149 & 0 & 0.3 & 2 & 1 & 3 & 0 & no\\\\\n",
       "\t no & 60 & 0 & 1 & 150 & 240 & 0 & 0 & 171 & 0 & 0.9 & 1 & 0 & 3 & 0 & no\\\\\n",
       "\t no & 44 & 1 & 3 & 120 & 226 & 0 & 0 & 169 & 0 & 0.0 & 1 & 0 & 3 & 0 & no\\\\\n",
       "\t no & 39 & 0 & 3 & 138 & 220 & 0 & 0 & 152 & 0 & 0.0 & 2 & 0 & 3 & 0 & no\\\\\n",
       "\t no & 55 & 0 & 2 & 132 & 342 & 0 & 0 & 166 & 0 & 1.2 & 1 & 0 & 3 & 0 & no\\\\\n",
       "\\end{tabular}\n"
      ],
      "text/markdown": [
       "\n",
       "A tibble: 148 × 16\n",
       "\n",
       "| .pred_class &lt;fct&gt; | age &lt;dbl&gt; | sex &lt;dbl&gt; | cp &lt;dbl&gt; | trestbps &lt;dbl&gt; | chol &lt;dbl&gt; | fbs &lt;dbl&gt; | restecg &lt;dbl&gt; | thalach &lt;dbl&gt; | exang &lt;dbl&gt; | oldpeak &lt;dbl&gt; | slope &lt;dbl&gt; | ca &lt;dbl&gt; | thal &lt;dbl&gt; | num &lt;dbl&gt; | hd &lt;fct&gt; |\n",
       "|---|---|---|---|---|---|---|---|---|---|---|---|---|---|---|---|\n",
       "| yes | 49 | 0 | 3 | 160 | 180 | 0 | 0 | 156 | 0 | 1 |  2 | -9 | -9 | 1 | yes |\n",
       "| no  | 58 | 1 | 2 | 136 | 164 | 0 | 1 |  99 | 1 | 2 |  2 | -9 | -9 | 3 | yes |\n",
       "| yes | 60 | 1 | 4 | 100 | 248 | 0 | 0 | 125 | 0 | 1 |  2 | -9 | -9 | 1 | yes |\n",
       "| yes | 44 | 1 | 2 | 150 | 288 | 0 | 0 | 150 | 1 | 3 |  2 | -9 | -9 | 3 | yes |\n",
       "| no  | 53 | 1 | 3 | 145 | 518 | 0 | 0 | 130 | 0 | 0 | -9 | -9 | -9 | 3 | yes |\n",
       "| ⋮ | ⋮ | ⋮ | ⋮ | ⋮ | ⋮ | ⋮ | ⋮ | ⋮ | ⋮ | ⋮ | ⋮ | ⋮ | ⋮ | ⋮ | ⋮ |\n",
       "| no | 44 | 0 | 3 | 118 | 242 | 0 | 0 | 149 | 0 | 0.3 | 2 | 1 | 3 | 0 | no |\n",
       "| no | 60 | 0 | 1 | 150 | 240 | 0 | 0 | 171 | 0 | 0.9 | 1 | 0 | 3 | 0 | no |\n",
       "| no | 44 | 1 | 3 | 120 | 226 | 0 | 0 | 169 | 0 | 0.0 | 1 | 0 | 3 | 0 | no |\n",
       "| no | 39 | 0 | 3 | 138 | 220 | 0 | 0 | 152 | 0 | 0.0 | 2 | 0 | 3 | 0 | no |\n",
       "| no | 55 | 0 | 2 | 132 | 342 | 0 | 0 | 166 | 0 | 1.2 | 1 | 0 | 3 | 0 | no |\n",
       "\n"
      ],
      "text/plain": [
       "    .pred_class age sex cp trestbps chol fbs restecg thalach exang oldpeak\n",
       "1   yes         49  0   3  160      180  0   0       156     0     1      \n",
       "2   no          58  1   2  136      164  0   1        99     1     2      \n",
       "3   yes         60  1   4  100      248  0   0       125     0     1      \n",
       "4   yes         44  1   2  150      288  0   0       150     1     3      \n",
       "5   no          53  1   3  145      518  0   0       130     0     0      \n",
       "⋮   ⋮           ⋮   ⋮   ⋮  ⋮        ⋮    ⋮   ⋮       ⋮       ⋮     ⋮      \n",
       "144 no          44  0   3  118      242  0   0       149     0     0.3    \n",
       "145 no          60  0   1  150      240  0   0       171     0     0.9    \n",
       "146 no          44  1   3  120      226  0   0       169     0     0.0    \n",
       "147 no          39  0   3  138      220  0   0       152     0     0.0    \n",
       "148 no          55  0   2  132      342  0   0       166     0     1.2    \n",
       "    slope ca thal num hd \n",
       "1    2    -9 -9   1   yes\n",
       "2    2    -9 -9   3   yes\n",
       "3    2    -9 -9   1   yes\n",
       "4    2    -9 -9   3   yes\n",
       "5   -9    -9 -9   3   yes\n",
       "⋮   ⋮     ⋮  ⋮    ⋮   ⋮  \n",
       "144 2     1  3    0   no \n",
       "145 1     0  3    0   no \n",
       "146 1     0  3    0   no \n",
       "147 2     0  3    0   no \n",
       "148 1     0  3    0   no "
      ]
     },
     "metadata": {},
     "output_type": "display_data"
    }
   ],
   "source": [
    "#Predicting the labels in the test set\n",
    "heart_test_predictions <- predict(knn_fit, heart_testing) |>\n",
    "    bind_cols(heart_testing)\n",
    "heart_test_predictions "
   ]
  },
  {
   "cell_type": "code",
   "execution_count": 20,
   "id": "cdb4041d-28f2-4579-bca6-b2780cc98d8d",
   "metadata": {},
   "outputs": [],
   "source": [
    "#Computing the accuracy\n",
    "heart_accuracies <- heart_test_predictions |>\n",
    "    metrics(truth = hd, estimate = .pred_class) |>\n",
    "    filter(.metric ==\"accuracy\")"
   ]
  },
  {
   "cell_type": "code",
   "execution_count": 21,
   "id": "b3de727b-5d08-48ac-88a0-691dd16e47df",
   "metadata": {},
   "outputs": [
    {
     "data": {
      "text/plain": [
       "          Truth\n",
       "Prediction yes no\n",
       "       yes  44 14\n",
       "       no   17 73"
      ]
     },
     "metadata": {},
     "output_type": "display_data"
    }
   ],
   "source": [
    "#Looking at the confusion matrix\n",
    "confusion <- heart_test_predictions |>\n",
    "             conf_mat(truth = hd, estimate = .pred_class)\n",
    "confusion "
   ]
  }
 ],
 "metadata": {
  "kernelspec": {
   "display_name": "R",
   "language": "R",
   "name": "ir"
  },
  "language_info": {
   "codemirror_mode": "r",
   "file_extension": ".r",
   "mimetype": "text/x-r-source",
   "name": "R",
   "pygments_lexer": "r",
   "version": "4.1.3"
  },
  "toc-autonumbering": true,
  "toc-showmarkdowntxt": true
 },
 "nbformat": 4,
 "nbformat_minor": 5
}
