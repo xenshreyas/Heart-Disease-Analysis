{
 "cells": [
  {
   "cell_type": "markdown",
   "id": "7edca0b6-858a-4267-a35c-4623ca2e6172",
   "metadata": {},
   "source": [
    "## **Can <font color='darkred'>Heart Disease</font> be predicted?**"
   ]
  },
  {
   "cell_type": "markdown",
   "id": "f0055899-24c0-4ac8-ba87-769dcd839c31",
   "metadata": {},
   "source": [
    "**Analysis By:**\n",
    "\n",
    "Guilherme Caetano Oliveria, Lisa Desjarlais, Shreyas Goyal, and Emma Szeto _(Group 155)._"
   ]
  },
  {
   "cell_type": "markdown",
   "id": "00cc9fbe-8b07-4ef9-a6fc-d1be0008707c",
   "metadata": {},
   "source": [
    "**INTRODUCTION:**\n",
    "    \n",
    "According to medical professionals at Johns Hopkins and Mount Sinai Health, there are five classifications of heart disease  <a href=\"(https://www.hopkinsmedicine.org/news/media/releases/updated_classification_system_captures_many_more_people_at_risk_for_heart_attack\">(Johns Hopkins Medicine 2017)</a>. For our project we will be analyzing the <a href=\"https://archive.ics.uci.edu/ml/datasets/Heart+Disease\">Cleveland Heart Disease Data set.</a> Class 0 means there is no presence of heart disease, while classes 1 to 4 describe mild, moderate, severe and very severe heart disease, in that order. The data was compiled using the medical information of 303 patients. Each row in the data set represents a patient with some classification of heart disease and 13 other health attributes. The goal of our project is to answer the predictive question: Can we use the health attributes available to us to predict whether a future patient (with an unknown diagnosis) has some level of heart disease?\n",
    "\n"
   ]
  },
  {
   "cell_type": "markdown",
   "id": "3d28ea55-855b-4404-8cef-185a794bd3e4",
   "metadata": {},
   "source": [
    "**PRELIMINARY EXPLORATORY DATA ANALYSIS:**\n",
    "\n",
    "1) Read in data \n",
    "2) Show it's tidy (head(dataset))\n",
    "3) Summarize data in at least one table\n",
    "4) Visualize the data with at least one plot"
   ]
  },
  {
   "cell_type": "markdown",
   "id": "44d3f293-2ca2-4663-b331-ae651d9c3233",
   "metadata": {},
   "source": [
    "**METHODS:**\n",
    "    \n",
    "We will be using the K-nearest neighbours algorithm to classify a patient (with an unknown diagnosis) with some class of heart disease. We will consider which of the following 13 variables can best help us with our classification: age, sex, chest pain type, resting blood pressure, serum cholestoral (mg/dl), fasting blood sugar, resting electrocardiographic results, maximum heart rate achieved, presence of exercise induced angina, ST depression induced by exercise relative to rest, the slope of the peak exercise ST segment, number of major vessels (0-3) colored by flouroscopy, and last, presence of heart defect. We will be using a scatter plot to visualize our results."
   ]
  },
  {
   "cell_type": "markdown",
   "id": "e5961fca-1bba-45df-8f50-62dce73e6873",
   "metadata": {},
   "source": [
    "**Expected Outcomes and Significance:**\n",
    "\n",
    "We expect to find the factors that best predict a class of heart disease. We predict higher cholesterol and higher resting blood pressure to have a strong relationship with a higher level of heart disease. As well as a higher heart disease class correlating with older patients. The factors that can best be used to predict a class of heart disease, can help identify the leading risk factors for heart disease. This information can aid health care providers in diagnostics and in care. And by identifying the risk factors, anyone can reduce their risk for heart disease. If cholesterol is found to correlate strongly with a higher level of heart disease, one can take steps to reduce their cholesterol and thus risk of heart disease. Also, if a medical professional notices a patient with higher cholesterol, they may be more likely to investigate possible heart disease. These findings can lead to such questions like: What is the ideal cholesterol level to minimize risk of heart disease? And, which heart disease risk factors differ between men and women?"
   ]
  }
 ],
 "metadata": {
  "kernelspec": {
   "display_name": "Python 3 (ipykernel)",
   "language": "python",
   "name": "python3"
  },
  "language_info": {
   "codemirror_mode": {
    "name": "ipython",
    "version": 3
   },
   "file_extension": ".py",
   "mimetype": "text/x-python",
   "name": "python",
   "nbconvert_exporter": "python",
   "pygments_lexer": "ipython3",
   "version": "3.10.5"
  }
 },
 "nbformat": 4,
 "nbformat_minor": 5
}
