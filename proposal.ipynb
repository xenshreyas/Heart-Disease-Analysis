{
 "cells": [
  {
   "cell_type": "markdown",
   "id": "7edca0b6-858a-4267-a35c-4623ca2e6172",
   "metadata": {},
   "source": [
    "Title:"
   ]
  },
  {
   "cell_type": "markdown",
   "id": "00cc9fbe-8b07-4ef9-a6fc-d1be0008707c",
   "metadata": {},
   "source": [
    "INTRODUCTION:\n",
    "    \n",
    "There are 5 different classes of heart disease, with 0 being no level of heart disease and 4 being very severe heart disease. Given a patient's medical statistics, what level of heart disease does this patient have? We will be using the Cleveland Heart Disease Data set. The data was compiled using 303 patients and contains 14 factors for each patient. The data set can be found at https://archive.ics.uci.edu/ml/datasets/Heart+Disease."
   ]
  },
  {
   "cell_type": "markdown",
   "id": "44d3f293-2ca2-4663-b331-ae651d9c3233",
   "metadata": {},
   "source": [
    "METHODS:\n",
    "    \n",
    "We will be using k-nearest neighbours to classify a patient with an unknown level of heart disease and will be using 13 variables to conduct our analysis. We will be using a scatter plot to visualize our results."
   ]
  },
  {
   "cell_type": "markdown",
   "id": "e5961fca-1bba-45df-8f50-62dce73e6873",
   "metadata": {},
   "source": [
    "Expected Outcomes and Significance:\n",
    "\n",
    "What do we expect to find?\n",
    "We predict _higher cholesterol_ to have a strong relationship with higher level of heart disease in a given patient. As well as age and resting blood pressure.\n",
    "\n",
    "What impact could such findings have? By finding which factors have the strongest relationship with severity of heart disease \n",
    "\n",
    "What future questions could this lead to? What is the ideal _cholesterol level_ to minimize risk of heart disease?"
   ]
  }
 ],
 "metadata": {
  "kernelspec": {
   "display_name": "Python 3 (ipykernel)",
   "language": "python",
   "name": "python3"
  },
  "language_info": {
   "codemirror_mode": {
    "name": "ipython",
    "version": 3
   },
   "file_extension": ".py",
   "mimetype": "text/x-python",
   "name": "python",
   "nbconvert_exporter": "python",
   "pygments_lexer": "ipython3",
   "version": "3.10.5"
  }
 },
 "nbformat": 4,
 "nbformat_minor": 5
}
